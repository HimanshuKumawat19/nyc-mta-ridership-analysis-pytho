{
 "cells": [
  {
   "cell_type": "code",
   "execution_count": 229,
   "id": "6b4e9cb7",
   "metadata": {},
   "outputs": [],
   "source": [
    "# IMPORT REQUIRED LIBRARIES\n",
    "\n",
    "import pandas as pd\n",
    "import numpy as np\n",
    "import matplotlib.pyplot as plt\n",
    "import seaborn as sns\n",
    "import datetime as dt"
   ]
  },
  {
   "cell_type": "code",
   "execution_count": 230,
   "id": "988789f7",
   "metadata": {},
   "outputs": [
    {
     "data": {
      "text/html": [
       "<div>\n",
       "<style scoped>\n",
       "    .dataframe tbody tr th:only-of-type {\n",
       "        vertical-align: middle;\n",
       "    }\n",
       "\n",
       "    .dataframe tbody tr th {\n",
       "        vertical-align: top;\n",
       "    }\n",
       "\n",
       "    .dataframe thead th {\n",
       "        text-align: right;\n",
       "    }\n",
       "</style>\n",
       "<table border=\"1\" class=\"dataframe\">\n",
       "  <thead>\n",
       "    <tr style=\"text-align: right;\">\n",
       "      <th></th>\n",
       "      <th>Date</th>\n",
       "      <th>Subways: Total Estimated Ridership</th>\n",
       "      <th>Subways: % of Comparable Pre-Pandemic Day</th>\n",
       "      <th>Buses: Total Estimated Ridership</th>\n",
       "      <th>Buses: % of Comparable Pre-Pandemic Day</th>\n",
       "      <th>LIRR: Total Estimated Ridership</th>\n",
       "      <th>LIRR: % of Comparable Pre-Pandemic Day</th>\n",
       "      <th>Metro-North: Total Estimated Ridership</th>\n",
       "      <th>Metro-North: % of Comparable Pre-Pandemic Day</th>\n",
       "      <th>Access-A-Ride: Total Scheduled Trips</th>\n",
       "      <th>Access-A-Ride: % of Comparable Pre-Pandemic Day</th>\n",
       "      <th>Bridges and Tunnels: Total Traffic</th>\n",
       "      <th>Bridges and Tunnels: % of Comparable Pre-Pandemic Day</th>\n",
       "      <th>Staten Island Railway: Total Estimated Ridership</th>\n",
       "      <th>Staten Island Railway: % of Comparable Pre-Pandemic Day</th>\n",
       "    </tr>\n",
       "  </thead>\n",
       "  <tbody>\n",
       "    <tr>\n",
       "      <th>0</th>\n",
       "      <td>01/03/2020</td>\n",
       "      <td>2212965</td>\n",
       "      <td>97</td>\n",
       "      <td>984908</td>\n",
       "      <td>99</td>\n",
       "      <td>86790</td>\n",
       "      <td>100</td>\n",
       "      <td>55825</td>\n",
       "      <td>59</td>\n",
       "      <td>19922</td>\n",
       "      <td>113</td>\n",
       "      <td>786960</td>\n",
       "      <td>98</td>\n",
       "      <td>1636</td>\n",
       "      <td>52</td>\n",
       "    </tr>\n",
       "    <tr>\n",
       "      <th>1</th>\n",
       "      <td>02/03/2020</td>\n",
       "      <td>5329915</td>\n",
       "      <td>96</td>\n",
       "      <td>2209066</td>\n",
       "      <td>99</td>\n",
       "      <td>321569</td>\n",
       "      <td>103</td>\n",
       "      <td>180701</td>\n",
       "      <td>66</td>\n",
       "      <td>30338</td>\n",
       "      <td>102</td>\n",
       "      <td>874619</td>\n",
       "      <td>95</td>\n",
       "      <td>17140</td>\n",
       "      <td>107</td>\n",
       "    </tr>\n",
       "    <tr>\n",
       "      <th>2</th>\n",
       "      <td>03/03/2020</td>\n",
       "      <td>5481103</td>\n",
       "      <td>98</td>\n",
       "      <td>2228608</td>\n",
       "      <td>99</td>\n",
       "      <td>319727</td>\n",
       "      <td>102</td>\n",
       "      <td>190648</td>\n",
       "      <td>69</td>\n",
       "      <td>32767</td>\n",
       "      <td>110</td>\n",
       "      <td>882175</td>\n",
       "      <td>96</td>\n",
       "      <td>17453</td>\n",
       "      <td>109</td>\n",
       "    </tr>\n",
       "    <tr>\n",
       "      <th>3</th>\n",
       "      <td>04/03/2020</td>\n",
       "      <td>5498809</td>\n",
       "      <td>99</td>\n",
       "      <td>2177165</td>\n",
       "      <td>97</td>\n",
       "      <td>311662</td>\n",
       "      <td>99</td>\n",
       "      <td>192689</td>\n",
       "      <td>70</td>\n",
       "      <td>34297</td>\n",
       "      <td>115</td>\n",
       "      <td>905558</td>\n",
       "      <td>98</td>\n",
       "      <td>17136</td>\n",
       "      <td>107</td>\n",
       "    </tr>\n",
       "    <tr>\n",
       "      <th>4</th>\n",
       "      <td>05/03/2020</td>\n",
       "      <td>5496453</td>\n",
       "      <td>99</td>\n",
       "      <td>2244515</td>\n",
       "      <td>100</td>\n",
       "      <td>307597</td>\n",
       "      <td>98</td>\n",
       "      <td>194386</td>\n",
       "      <td>70</td>\n",
       "      <td>33209</td>\n",
       "      <td>112</td>\n",
       "      <td>929298</td>\n",
       "      <td>101</td>\n",
       "      <td>17203</td>\n",
       "      <td>108</td>\n",
       "    </tr>\n",
       "  </tbody>\n",
       "</table>\n",
       "</div>"
      ],
      "text/plain": [
       "         Date  Subways: Total Estimated Ridership  \\\n",
       "0  01/03/2020                             2212965   \n",
       "1  02/03/2020                             5329915   \n",
       "2  03/03/2020                             5481103   \n",
       "3  04/03/2020                             5498809   \n",
       "4  05/03/2020                             5496453   \n",
       "\n",
       "   Subways: % of Comparable Pre-Pandemic Day  \\\n",
       "0                                         97   \n",
       "1                                         96   \n",
       "2                                         98   \n",
       "3                                         99   \n",
       "4                                         99   \n",
       "\n",
       "   Buses: Total Estimated Ridership  Buses: % of Comparable Pre-Pandemic Day  \\\n",
       "0                            984908                                       99   \n",
       "1                           2209066                                       99   \n",
       "2                           2228608                                       99   \n",
       "3                           2177165                                       97   \n",
       "4                           2244515                                      100   \n",
       "\n",
       "   LIRR: Total Estimated Ridership  LIRR: % of Comparable Pre-Pandemic Day  \\\n",
       "0                            86790                                     100   \n",
       "1                           321569                                     103   \n",
       "2                           319727                                     102   \n",
       "3                           311662                                      99   \n",
       "4                           307597                                      98   \n",
       "\n",
       "   Metro-North: Total Estimated Ridership  \\\n",
       "0                                   55825   \n",
       "1                                  180701   \n",
       "2                                  190648   \n",
       "3                                  192689   \n",
       "4                                  194386   \n",
       "\n",
       "   Metro-North: % of Comparable Pre-Pandemic Day  \\\n",
       "0                                             59   \n",
       "1                                             66   \n",
       "2                                             69   \n",
       "3                                             70   \n",
       "4                                             70   \n",
       "\n",
       "   Access-A-Ride: Total Scheduled Trips  \\\n",
       "0                                 19922   \n",
       "1                                 30338   \n",
       "2                                 32767   \n",
       "3                                 34297   \n",
       "4                                 33209   \n",
       "\n",
       "   Access-A-Ride: % of Comparable Pre-Pandemic Day  \\\n",
       "0                                              113   \n",
       "1                                              102   \n",
       "2                                              110   \n",
       "3                                              115   \n",
       "4                                              112   \n",
       "\n",
       "   Bridges and Tunnels: Total Traffic  \\\n",
       "0                              786960   \n",
       "1                              874619   \n",
       "2                              882175   \n",
       "3                              905558   \n",
       "4                              929298   \n",
       "\n",
       "   Bridges and Tunnels: % of Comparable Pre-Pandemic Day  \\\n",
       "0                                                 98       \n",
       "1                                                 95       \n",
       "2                                                 96       \n",
       "3                                                 98       \n",
       "4                                                101       \n",
       "\n",
       "   Staten Island Railway: Total Estimated Ridership  \\\n",
       "0                                              1636   \n",
       "1                                             17140   \n",
       "2                                             17453   \n",
       "3                                             17136   \n",
       "4                                             17203   \n",
       "\n",
       "   Staten Island Railway: % of Comparable Pre-Pandemic Day  \n",
       "0                                                 52        \n",
       "1                                                107        \n",
       "2                                                109        \n",
       "3                                                107        \n",
       "4                                                108        "
      ]
     },
     "execution_count": 230,
     "metadata": {},
     "output_type": "execute_result"
    }
   ],
   "source": [
    "# LOAD THE DATASET\n",
    "\n",
    "df = pd.read_csv('MTA_Daily_Ridership.csv')\n",
    "df.head()"
   ]
  },
  {
   "cell_type": "markdown",
   "id": "54576b06",
   "metadata": {},
   "source": [
    "## DATA CLEANING AND PREPROCESSING"
   ]
  },
  {
   "cell_type": "code",
   "execution_count": 231,
   "id": "9994ed97",
   "metadata": {},
   "outputs": [
    {
     "name": "stdout",
     "output_type": "stream",
     "text": [
      "Shape of Data: (1706, 15)\n",
      "-------------------------------------------------------------------------------------------------------------------------------------\n",
      "Column Names: ['Date', 'Subways: Total Estimated Ridership', 'Subways: % of Comparable Pre-Pandemic Day', 'Buses: Total Estimated Ridership', 'Buses: % of Comparable Pre-Pandemic Day', 'LIRR: Total Estimated Ridership', 'LIRR: % of Comparable Pre-Pandemic Day', 'Metro-North: Total Estimated Ridership', 'Metro-North: % of Comparable Pre-Pandemic Day', 'Access-A-Ride: Total Scheduled Trips', 'Access-A-Ride: % of Comparable Pre-Pandemic Day', 'Bridges and Tunnels: Total Traffic', 'Bridges and Tunnels: % of Comparable Pre-Pandemic Day', 'Staten Island Railway: Total Estimated Ridership', 'Staten Island Railway: % of Comparable Pre-Pandemic Day']\n",
      "-------------------------------------------------------------------------------------------------------------------------------------\n",
      "Data Types: Date                                                       object\n",
      "Subways: Total Estimated Ridership                          int64\n",
      "Subways: % of Comparable Pre-Pandemic Day                   int64\n",
      "Buses: Total Estimated Ridership                            int64\n",
      "Buses: % of Comparable Pre-Pandemic Day                     int64\n",
      "LIRR: Total Estimated Ridership                             int64\n",
      "LIRR: % of Comparable Pre-Pandemic Day                      int64\n",
      "Metro-North: Total Estimated Ridership                      int64\n",
      "Metro-North: % of Comparable Pre-Pandemic Day               int64\n",
      "Access-A-Ride: Total Scheduled Trips                        int64\n",
      "Access-A-Ride: % of Comparable Pre-Pandemic Day             int64\n",
      "Bridges and Tunnels: Total Traffic                          int64\n",
      "Bridges and Tunnels: % of Comparable Pre-Pandemic Day       int64\n",
      "Staten Island Railway: Total Estimated Ridership            int64\n",
      "Staten Island Railway: % of Comparable Pre-Pandemic Day     int64\n",
      "dtype: object\n",
      "-------------------------------------------------------------------------------------------------------------------------------------\n",
      "Null Values: Date                                                       0\n",
      "Subways: Total Estimated Ridership                         0\n",
      "Subways: % of Comparable Pre-Pandemic Day                  0\n",
      "Buses: Total Estimated Ridership                           0\n",
      "Buses: % of Comparable Pre-Pandemic Day                    0\n",
      "LIRR: Total Estimated Ridership                            0\n",
      "LIRR: % of Comparable Pre-Pandemic Day                     0\n",
      "Metro-North: Total Estimated Ridership                     0\n",
      "Metro-North: % of Comparable Pre-Pandemic Day              0\n",
      "Access-A-Ride: Total Scheduled Trips                       0\n",
      "Access-A-Ride: % of Comparable Pre-Pandemic Day            0\n",
      "Bridges and Tunnels: Total Traffic                         0\n",
      "Bridges and Tunnels: % of Comparable Pre-Pandemic Day      0\n",
      "Staten Island Railway: Total Estimated Ridership           0\n",
      "Staten Island Railway: % of Comparable Pre-Pandemic Day    0\n",
      "dtype: int64\n",
      "-------------------------------------------------------------------------------------------------------------------------------------\n",
      "Duplicate Values: 0\n",
      "-------------------------------------------------------------------------------------------------------------------------------------\n",
      "-------------------------------------------------------------------------------------------------------------------------------------\n",
      "-------------------------------------------------------------------------------------------------------------------------------------\n",
      "-------------------------------------------------------------------------------------------------------------------------------------\n",
      "-------------------------------------------------------------------------------------------------------------------------------------\n",
      "Modified DataFrame:\n",
      "\n"
     ]
    },
    {
     "data": {
      "text/html": [
       "<div>\n",
       "<style scoped>\n",
       "    .dataframe tbody tr th:only-of-type {\n",
       "        vertical-align: middle;\n",
       "    }\n",
       "\n",
       "    .dataframe tbody tr th {\n",
       "        vertical-align: top;\n",
       "    }\n",
       "\n",
       "    .dataframe thead th {\n",
       "        text-align: right;\n",
       "    }\n",
       "</style>\n",
       "<table border=\"1\" class=\"dataframe\">\n",
       "  <thead>\n",
       "    <tr style=\"text-align: right;\">\n",
       "      <th></th>\n",
       "      <th>date</th>\n",
       "      <th>subway</th>\n",
       "      <th>subway_%_pre_covid</th>\n",
       "      <th>bus</th>\n",
       "      <th>bus_%_pre_covid</th>\n",
       "      <th>lirr</th>\n",
       "      <th>lirr_%_pre_covid</th>\n",
       "      <th>metro</th>\n",
       "      <th>metro_%_pre_covid</th>\n",
       "      <th>access</th>\n",
       "      <th>access_%_pre_covid</th>\n",
       "      <th>bridge_tunnel</th>\n",
       "      <th>bridge_tunnel_%_pre_covid</th>\n",
       "      <th>sir</th>\n",
       "      <th>sir_%_pre_covid</th>\n",
       "      <th>month</th>\n",
       "      <th>year</th>\n",
       "      <th>weekday</th>\n",
       "      <th>total_ridership</th>\n",
       "      <th>is_weekend</th>\n",
       "    </tr>\n",
       "  </thead>\n",
       "  <tbody>\n",
       "    <tr>\n",
       "      <th>0</th>\n",
       "      <td>2020-03-01</td>\n",
       "      <td>2212965</td>\n",
       "      <td>97</td>\n",
       "      <td>984908</td>\n",
       "      <td>99</td>\n",
       "      <td>86790</td>\n",
       "      <td>100</td>\n",
       "      <td>55825</td>\n",
       "      <td>59</td>\n",
       "      <td>19922</td>\n",
       "      <td>113</td>\n",
       "      <td>786960</td>\n",
       "      <td>98</td>\n",
       "      <td>1636</td>\n",
       "      <td>52</td>\n",
       "      <td>March</td>\n",
       "      <td>2020</td>\n",
       "      <td>Sunday</td>\n",
       "      <td>3362046</td>\n",
       "      <td>True</td>\n",
       "    </tr>\n",
       "    <tr>\n",
       "      <th>1</th>\n",
       "      <td>2020-03-02</td>\n",
       "      <td>5329915</td>\n",
       "      <td>96</td>\n",
       "      <td>2209066</td>\n",
       "      <td>99</td>\n",
       "      <td>321569</td>\n",
       "      <td>103</td>\n",
       "      <td>180701</td>\n",
       "      <td>66</td>\n",
       "      <td>30338</td>\n",
       "      <td>102</td>\n",
       "      <td>874619</td>\n",
       "      <td>95</td>\n",
       "      <td>17140</td>\n",
       "      <td>107</td>\n",
       "      <td>March</td>\n",
       "      <td>2020</td>\n",
       "      <td>Monday</td>\n",
       "      <td>8088729</td>\n",
       "      <td>False</td>\n",
       "    </tr>\n",
       "    <tr>\n",
       "      <th>2</th>\n",
       "      <td>2020-03-03</td>\n",
       "      <td>5481103</td>\n",
       "      <td>98</td>\n",
       "      <td>2228608</td>\n",
       "      <td>99</td>\n",
       "      <td>319727</td>\n",
       "      <td>102</td>\n",
       "      <td>190648</td>\n",
       "      <td>69</td>\n",
       "      <td>32767</td>\n",
       "      <td>110</td>\n",
       "      <td>882175</td>\n",
       "      <td>96</td>\n",
       "      <td>17453</td>\n",
       "      <td>109</td>\n",
       "      <td>March</td>\n",
       "      <td>2020</td>\n",
       "      <td>Tuesday</td>\n",
       "      <td>8270306</td>\n",
       "      <td>False</td>\n",
       "    </tr>\n",
       "    <tr>\n",
       "      <th>3</th>\n",
       "      <td>2020-03-04</td>\n",
       "      <td>5498809</td>\n",
       "      <td>99</td>\n",
       "      <td>2177165</td>\n",
       "      <td>97</td>\n",
       "      <td>311662</td>\n",
       "      <td>99</td>\n",
       "      <td>192689</td>\n",
       "      <td>70</td>\n",
       "      <td>34297</td>\n",
       "      <td>115</td>\n",
       "      <td>905558</td>\n",
       "      <td>98</td>\n",
       "      <td>17136</td>\n",
       "      <td>107</td>\n",
       "      <td>March</td>\n",
       "      <td>2020</td>\n",
       "      <td>Wednesday</td>\n",
       "      <td>8231758</td>\n",
       "      <td>False</td>\n",
       "    </tr>\n",
       "    <tr>\n",
       "      <th>4</th>\n",
       "      <td>2020-03-05</td>\n",
       "      <td>5496453</td>\n",
       "      <td>99</td>\n",
       "      <td>2244515</td>\n",
       "      <td>100</td>\n",
       "      <td>307597</td>\n",
       "      <td>98</td>\n",
       "      <td>194386</td>\n",
       "      <td>70</td>\n",
       "      <td>33209</td>\n",
       "      <td>112</td>\n",
       "      <td>929298</td>\n",
       "      <td>101</td>\n",
       "      <td>17203</td>\n",
       "      <td>108</td>\n",
       "      <td>March</td>\n",
       "      <td>2020</td>\n",
       "      <td>Thursday</td>\n",
       "      <td>8293363</td>\n",
       "      <td>False</td>\n",
       "    </tr>\n",
       "  </tbody>\n",
       "</table>\n",
       "</div>"
      ],
      "text/plain": [
       "        date   subway  subway_%_pre_covid      bus  bus_%_pre_covid    lirr  \\\n",
       "0 2020-03-01  2212965                  97   984908               99   86790   \n",
       "1 2020-03-02  5329915                  96  2209066               99  321569   \n",
       "2 2020-03-03  5481103                  98  2228608               99  319727   \n",
       "3 2020-03-04  5498809                  99  2177165               97  311662   \n",
       "4 2020-03-05  5496453                  99  2244515              100  307597   \n",
       "\n",
       "   lirr_%_pre_covid   metro  metro_%_pre_covid  access  access_%_pre_covid  \\\n",
       "0               100   55825                 59   19922                 113   \n",
       "1               103  180701                 66   30338                 102   \n",
       "2               102  190648                 69   32767                 110   \n",
       "3                99  192689                 70   34297                 115   \n",
       "4                98  194386                 70   33209                 112   \n",
       "\n",
       "   bridge_tunnel  bridge_tunnel_%_pre_covid    sir  sir_%_pre_covid  month  \\\n",
       "0         786960                         98   1636               52  March   \n",
       "1         874619                         95  17140              107  March   \n",
       "2         882175                         96  17453              109  March   \n",
       "3         905558                         98  17136              107  March   \n",
       "4         929298                        101  17203              108  March   \n",
       "\n",
       "   year    weekday  total_ridership  is_weekend  \n",
       "0  2020     Sunday          3362046        True  \n",
       "1  2020     Monday          8088729       False  \n",
       "2  2020    Tuesday          8270306       False  \n",
       "3  2020  Wednesday          8231758       False  \n",
       "4  2020   Thursday          8293363       False  "
      ]
     },
     "execution_count": 231,
     "metadata": {},
     "output_type": "execute_result"
    }
   ],
   "source": [
    "# SHAPE\n",
    "print(f\"Shape of Data: {df.shape}\")\n",
    "print(\"-------------------------------------------------------------------------------------------------------------------------------------\")\n",
    "# COLUMN NAMES\n",
    "print(f\"Column Names: {df.columns.tolist()}\")\n",
    "print(\"-------------------------------------------------------------------------------------------------------------------------------------\")\n",
    "# DATA TYPES\n",
    "print(f\"Data Types: {df.dtypes}\")\n",
    "print(\"-------------------------------------------------------------------------------------------------------------------------------------\")\n",
    "# CHECK NULL VALUES\n",
    "print(f\"Null Values: {df.isnull().sum()}\")\n",
    "print(\"-------------------------------------------------------------------------------------------------------------------------------------\")\n",
    "\n",
    "# CHECK FOR DUPLICATES\n",
    "duplicates = df.duplicated().sum()\n",
    "print(f\"Duplicate Values: {duplicates}\")\n",
    "print(\"-------------------------------------------------------------------------------------------------------------------------------------\")\n",
    "\n",
    "# CHECK FOR INVALID/ZERO/NEGATIVE VALUES\n",
    "if 'Ridership' in df.columns:\n",
    "    invalid_ridership = df[(df['ridership'] <= 0)]\n",
    "    print(f\"Invalid Ridership Columns\\n: {invalid_ridership}\")\n",
    "print(\"-------------------------------------------------------------------------------------------------------------------------------------\")\n",
    "\n",
    "# CREATING NEW COLUMNS (DAY,MONTH,YEAR)\n",
    "if 'Date' in df.columns:\n",
    "    df['Date'] = pd.to_datetime(df['Date'],dayfirst=True)  # Convert to datetime\n",
    "    df['Month'] = df['Date'].dt.month_name()\n",
    "    df['Year'] = df['Date'].dt.year\n",
    "    df['Day of Week'] = df['Date'].dt.day_name()\n",
    "print(\"-------------------------------------------------------------------------------------------------------------------------------------\")\n",
    "\n",
    "# RENAMING THE COLUMNS\n",
    "df.rename(columns={\n",
    "    'Date': 'date',\n",
    "    'Subways: Total Estimated Ridership': 'subway',\n",
    "    'Subways: % of Comparable Pre-Pandemic Day': 'subway_%_pre_covid',\n",
    "    'Buses: Total Estimated Ridership': 'bus',\n",
    "    'Buses: % of Comparable Pre-Pandemic Day': 'bus_%_pre_covid',\n",
    "    'LIRR: Total Estimated Ridership': 'lirr',\n",
    "    'LIRR: % of Comparable Pre-Pandemic Day': 'lirr_%_pre_covid',\n",
    "    'Metro-North: Total Estimated Ridership': 'metro',\n",
    "    'Metro-North: % of Comparable Pre-Pandemic Day': 'metro_%_pre_covid',\n",
    "    'Access-A-Ride: Total Scheduled Trips': 'access',\n",
    "    'Access-A-Ride: % of Comparable Pre-Pandemic Day': 'access_%_pre_covid',\n",
    "    'Bridges and Tunnels: Total Traffic': 'bridge_tunnel',\n",
    "    'Bridges and Tunnels: % of Comparable Pre-Pandemic Day': 'bridge_tunnel_%_pre_covid',\n",
    "    'Staten Island Railway: Total Estimated Ridership': 'sir',\n",
    "    'Staten Island Railway: % of Comparable Pre-Pandemic Day': 'sir_%_pre_covid',\n",
    "    'Month': 'month',\n",
    "    'Year': 'year',\n",
    "    'Day of Week': 'weekday'\n",
    "}, inplace=True)\n",
    "print(\"-------------------------------------------------------------------------------------------------------------------------------------\")\n",
    "\n",
    "# ADDING CALCULATED COLUMNS\n",
    "df['total_ridership'] = df[['subway', 'bus', 'lirr', 'metro', 'sir', 'access']].sum(axis=1)\n",
    "df['is_weekend'] = df['weekday'].isin(['Saturday', 'Sunday'])\n",
    "print(\"-------------------------------------------------------------------------------------------------------------------------------------\")\n",
    "\n",
    "# MODIFIED DATAFRAME\n",
    "print(f\"Modified DataFrame:\\n\")\n",
    "df.head()"
   ]
  },
  {
   "cell_type": "markdown",
   "id": "7b5688ea",
   "metadata": {},
   "source": [
    "## Analyze the recovery trend of each transit mode post-COVID"
   ]
  },
  {
   "cell_type": "markdown",
   "id": "c599a862",
   "metadata": {},
   "source": [
    "### Phase 1: Year-wise Recovery Trend"
   ]
  },
  {
   "cell_type": "code",
   "execution_count": 232,
   "id": "044c54b4",
   "metadata": {},
   "outputs": [
    {
     "data": {
      "image/png": "[encoded data removed]",
      "text/plain": [
       "<Figure size 1200x600 with 1 Axes>"
      ]
     },
     "metadata": {},
     "output_type": "display_data"
    }
   ],
   "source": [
    "# IDENTIFY COLUMNS FOR RECOVERY %\n",
    "required_columns = [\n",
    "    'subway_%_pre_covid',\n",
    "    'bus_%_pre_covid',\n",
    "    'lirr_%_pre_covid',\n",
    "    'metro_%_pre_covid',\n",
    "    'sir_%_pre_covid',\n",
    "    'access_%_pre_covid',\n",
    "    'bridge_tunnel_%_pre_covid'\n",
    "]\n",
    "\n",
    "# GROUP BY YEAR\n",
    "yearly_recovery = df.groupby('year')[required_columns].mean().reset_index()\n",
    "# mean has already calculated\n",
    "\n",
    "# CREATE LINE PLOT\n",
    "plt.figure(figsize=(12, 6))\n",
    "\n",
    "# Plot each mode with different colors and markers\n",
    "for column in required_columns:\n",
    "    plt.plot(yearly_recovery['year'], yearly_recovery[column], marker='o', label=column)\n",
    "\n",
    "# Add title and labels\n",
    "plt.title('Yearly Recovery Trend of Transit Modes Post-COVID')\n",
    "plt.xlabel('Year')\n",
    "plt.ylabel('% Recovery Compared to Pre-COVID Levels')\n",
    "plt.xticks(yearly_recovery['year'])  # Ensure all years are shown on the x-axis\n",
    "plt.legend(title='Transit Modes')\n",
    "plt.grid()\n",
    "\n",
    "# Show the plot\n",
    "plt.tight_layout()\n",
    "plt.show()"
   ]
  },
  {
   "cell_type": "markdown",
   "id": "b388fa19",
   "metadata": {},
   "source": [
    "### Phase 2: Month-wise Subway vs Bus Recovery Trend"
   ]
  },
  {
   "cell_type": "code",
   "execution_count": 233,
   "id": "aa89626f",
   "metadata": {},
   "outputs": [
    {
     "data": {
      "application/vnd.plotly.v1+json": {
       "config": {
        "plotlyServerURL": "https://plot.ly"
       },
       "data": [
        {
         "coloraxis": "coloraxis",
         "hovertemplate": "Month: %{x}<br>Year: %{y}<br>Subway Recovery %: %{z}<extra></extra>",
         "name": "0",
         "text": [
          [
           "",
           "",
           "50.4%",
           "8.2%",
           "10.8%",
           "17.1%",
           "24.0%",
           "26.3%",
           "29.7%",
           "32.0%",
           "33.6%",
           "30.4%"
          ],
          [
           "33.6%",
           "32.6%",
           "34.8%",
           "37.5%",
           "41.9%",
           "47.7%",
           "51.0%",
           "49.4%",
           "51.9%",
           "57.0%",
           "62.2%",
           "56.6%"
          ],
          [
           "50.6%",
           "57.9%",
           "59.3%",
           "59.4%",
           "61.1%",
           "62.7%",
           "62.2%",
           "60.6%",
           "63.3%",
           "64.8%",
           "68.0%",
           "65.2%"
          ],
          [
           "72.0%",
           "69.2%",
           "68.9%",
           "68.8%",
           "71.0%",
           "69.7%",
           "70.0%",
           "68.9%",
           "67.2%",
           "69.9%",
           "74.2%",
           "70.4%"
          ],
          [
           "71.5%",
           "71.2%",
           "71.0%",
           "70.5%",
           "71.8%",
           "69.6%",
           "69.3%",
           "68.5%",
           "73.6%",
           "74.5%",
           "",
           ""
          ]
         ],
         "textfont": {
          "size": 14
         },
         "texttemplate": "%{text}",
         "type": "heatmap",
         "x": [
          "January",
          "February",
          "March",
          "April",
          "May",
          "June",
          "July",
          "August",
          "September",
          "October",
          "November",
          "December"
         ],
         "xaxis": "x",
         "y": [
          2020,
          2021,
          2022,
          2023,
          2024
         ],
         "yaxis": "y",
         "z": {
          "bdata": "AAAAAAAA+H8AAAAAAAD4fzLGGGOMMUlAd3d3d3d3IECMMcYYY4wlQBERERERETFA+N577733N0BKKaWUUko6QDMzMzMzsz1A+N577733P0AREREREdFAQFtrrbXWWj5AzjnnnHPOQEDbtm3btk1AQGOMMcYYY0FAvLu7u7u7QkD43nvvvfdEQN7d3d3d3UdAAAAAAACASUC21lprrbVIQDMzMzMz80lAhBBCCCGETEBVVVVVVRVPQFNKKaWUUkxAzjnnnHNOSUDbtm3btu1MQCmllFJKqU1Ad3d3d3e3TUCMMcYYY4xOQN7d3d3dXU9AGWOMMcYYT0DOOeecc05OQCIiIiIiok9AMsYYY4wxUEDe3d3d3f1QQEoppZRSSlBAAAAAAAAAUkC3bdu2bUtRQHzvvffeO1FAVVVVVVU1UUBCCCGEEMJRQM3MzMzMbFFAvvfee+99UUA655xzzjlRQM3MzMzMzFBA+N577713UUCrqqqqqopSQNdaa621llFA33vvvffeUUAs9zTCcs9RQAAAAAAAwFFAAAAAAACgUUC21lprrfVRQImIiIiIaFFAlVJKKaVUUUBjjDHGGCNRQImIiIiIaFJAY4wxxhijUkAAAAAAAAD4fwAAAAAAAPh/",
          "dtype": "f8",
          "shape": "5, 12"
         }
        }
       ],
       "layout": {
        "coloraxis": {
         "colorbar": {
          "title": {
           "text": "Subway Recovery %"
          }
         },
         "colorscale": [
          [
           0,
           "rgb(247,251,255)"
          ],
          [
           0.125,
           "rgb(222,235,247)"
          ],
          [
           0.25,
           "rgb(198,219,239)"
          ],
          [
           0.375,
           "rgb(158,202,225)"
          ],
          [
           0.5,
           "rgb(107,174,214)"
          ],
          [
           0.625,
           "rgb(66,146,198)"
          ],
          [
           0.75,
           "rgb(33,113,181)"
          ],
          [
           0.875,
           "rgb(8,81,156)"
          ],
          [
           1,
           "rgb(8,48,107)"
          ]
         ]
        },
        "margin": {
         "t": 60
        },
        "template": {
         "data": {
          "bar": [
           {
            "error_x": {
             "color": "#2a3f5f"
            },
            "error_y": {
             "color": "#2a3f5f"
            },
            "marker": {
             "line": {
              "color": "#E5ECF6",
              "width": 0.5
             },
             "pattern": {
              "fillmode": "overlay",
              "size": 10,
              "solidity": 0.2
             }
            },
            "type": "bar"
           }
          ],
          "barpolar": [
           {
            "marker": {
             "line": {
              "color": "#E5ECF6",
              "width": 0.5
             },
             "pattern": {
              "fillmode": "overlay",
              "size": 10,
              "solidity": 0.2
             }
            },
            "type": "barpolar"
           }
          ],
          "carpet": [
           {
            "aaxis": {
             "endlinecolor": "#2a3f5f",
             "gridcolor": "white",
             "linecolor": "white",
             "minorgridcolor": "white",
             "startlinecolor": "#2a3f5f"
            },
            "baxis": {
             "endlinecolor": "#2a3f5f",
             "gridcolor": "white",
             "linecolor": "white",
             "minorgridcolor": "white",
             "startlinecolor": "#2a3f5f"
            },
            "type": "carpet"
           }
          ],
          "choropleth": [
           {
            "colorbar": {
             "outlinewidth": 0,
             "ticks": ""
            },
            "type": "choropleth"
           }
          ],
          "contour": [
           {
            "colorbar": {
             "outlinewidth": 0,
             "ticks": ""
            },
            "colorscale": [
             [
              0,
              "#0d0887"
             ],
             [
              0.1111111111111111,
              "#46039f"
             ],
             [
              0.2222222222222222,
              "#7201a8"
             ],
             [
              0.3333333333333333,
              "#9c179e"
             ],
             [
              0.4444444444444444,
              "#bd3786"
             ],
             [
              0.5555555555555556,
              "#d8576b"
             ],
             [
              0.6666666666666666,
              "#ed7953"
             ],
             [
              0.7777777777777778,
              "#fb9f3a"
             ],
             [
              0.8888888888888888,
              "#fdca26"
             ],
             [
              1,
              "#f0f921"
             ]
            ],
            "type": "contour"
           }
          ],
          "contourcarpet": [
           {
            "colorbar": {
             "outlinewidth": 0,
             "ticks": ""
            },
            "type": "contourcarpet"
           }
          ],
          "heatmap": [
           {
            "colorbar": {
             "outlinewidth": 0,
             "ticks": ""
            },
            "colorscale": [
             [
              0,
              "#0d0887"
             ],
             [
              0.1111111111111111,
              "#46039f"
             ],
             [
              0.2222222222222222,
              "#7201a8"
             ],
             [
              0.3333333333333333,
              "#9c179e"
             ],
             [
              0.4444444444444444,
              "#bd3786"
             ],
             [
              0.5555555555555556,
              "#d8576b"
             ],
             [
              0.6666666666666666,
              "#ed7953"
             ],
             [
              0.7777777777777778,
              "#fb9f3a"
             ],
             [
              0.8888888888888888,
              "#fdca26"
             ],
             [
              1,
              "#f0f921"
             ]
            ],
            "type": "heatmap"
           }
          ],
          "histogram": [
           {
            "marker": {
             "pattern": {
              "fillmode": "overlay",
              "size": 10,
              "solidity": 0.2
             }
            },
            "type": "histogram"
           }
          ],
          "histogram2d": [
           {
            "colorbar": {
             "outlinewidth": 0,
             "ticks": ""
            },
            "colorscale": [
             [
              0,
              "#0d0887"
             ],
             [
              0.1111111111111111,
              "#46039f"
             ],
             [
              0.2222222222222222,
              "#7201a8"
             ],
             [
              0.3333333333333333,
              "#9c179e"
             ],
             [
              0.4444444444444444,
              "#bd3786"
             ],
             [
              0.5555555555555556,
              "#d8576b"
             ],
             [
              0.6666666666666666,
              "#ed7953"
             ],
             [
              0.7777777777777778,
              "#fb9f3a"
             ],
             [
              0.8888888888888888,
              "#fdca26"
             ],
             [
              1,
              "#f0f921"
             ]
            ],
            "type": "histogram2d"
           }
          ],
          "histogram2dcontour": [
           {
            "colorbar": {
             "outlinewidth": 0,
             "ticks": ""
            },
            "colorscale": [
             [
              0,
              "#0d0887"
             ],
             [
              0.1111111111111111,
              "#46039f"
             ],
             [
              0.2222222222222222,
              "#7201a8"
             ],
             [
              0.3333333333333333,
              "#9c179e"
             ],
             [
              0.4444444444444444,
              "#bd3786"
             ],
             [
              0.5555555555555556,
              "#d8576b"
             ],
             [
              0.6666666666666666,
              "#ed7953"
             ],
             [
              0.7777777777777778,
              "#fb9f3a"
             ],
             [
              0.8888888888888888,
              "#fdca26"
             ],
             [
              1,
              "#f0f921"
             ]
            ],
            "type": "histogram2dcontour"
           }
          ],
          "mesh3d": [
           {
            "colorbar": {
             "outlinewidth": 0,
             "ticks": ""
            },
            "type": "mesh3d"
           }
          ],
          "parcoords": [
           {
            "line": {
             "colorbar": {
              "outlinewidth": 0,
              "ticks": ""
             }
            },
            "type": "parcoords"
           }
          ],
          "pie": [
           {
            "automargin": true,
            "type": "pie"
           }
          ],
          "scatter": [
           {
            "fillpattern": {
             "fillmode": "overlay",
             "size": 10,
             "solidity": 0.2
            },
            "type": "scatter"
           }
          ],
          "scatter3d": [
           {
            "line": {
             "colorbar": {
              "outlinewidth": 0,
              "ticks": ""
             }
            },
            "marker": {
             "colorbar": {
              "outlinewidth": 0,
              "ticks": ""
             }
            },
            "type": "scatter3d"
           }
          ],
          "scattercarpet": [
           {
            "marker": {
             "colorbar": {
              "outlinewidth": 0,
              "ticks": ""
             }
            },
            "type": "scattercarpet"
           }
          ],
          "scattergeo": [
           {
            "marker": {
             "colorbar": {
              "outlinewidth": 0,
              "ticks": ""
             }
            },
            "type": "scattergeo"
           }
          ],
          "scattergl": [
           {
            "marker": {
             "colorbar": {
              "outlinewidth": 0,
              "ticks": ""
             }
            },
            "type": "scattergl"
           }
          ],
          "scattermap": [
           {
            "marker": {
             "colorbar": {
              "outlinewidth": 0,
              "ticks": ""
             }
            },
            "type": "scattermap"
           }
          ],
          "scattermapbox": [
           {
            "marker": {
             "colorbar": {
              "outlinewidth": 0,
              "ticks": ""
             }
            },
            "type": "scattermapbox"
           }
          ],
          "scatterpolar": [
           {
            "marker": {
             "colorbar": {
              "outlinewidth": 0,
              "ticks": ""
             }
            },
            "type": "scatterpolar"
           }
          ],
          "scatterpolargl": [
           {
            "marker": {
             "colorbar": {
              "outlinewidth": 0,
              "ticks": ""
             }
            },
            "type": "scatterpolargl"
           }
          ],
          "scatterternary": [
           {
            "marker": {
             "colorbar": {
              "outlinewidth": 0,
              "ticks": ""
             }
            },
            "type": "scatterternary"
           }
          ],
          "surface": [
           {
            "colorbar": {
             "outlinewidth": 0,
             "ticks": ""
            },
            "colorscale": [
             [
              0,
              "#0d0887"
             ],
             [
              0.1111111111111111,
              "#46039f"
             ],
             [
              0.2222222222222222,
              "#7201a8"
             ],
             [
              0.3333333333333333,
              "#9c179e"
             ],
             [
              0.4444444444444444,
              "#bd3786"
             ],
             [
              0.5555555555555556,
              "#d8576b"
             ],
             [
              0.6666666666666666,
              "#ed7953"
             ],
             [
              0.7777777777777778,
              "#fb9f3a"
             ],
             [
              0.8888888888888888,
              "#fdca26"
             ],
             [
              1,
              "#f0f921"
             ]
            ],
            "type": "surface"
           }
          ],
          "table": [
           {
            "cells": {
             "fill": {
              "color": "#EBF0F8"
             },
             "line": {
              "color": "white"
             }
            },
            "header": {
             "fill": {
              "color": "#C8D4E3"
             },
             "line": {
              "color": "white"
             }
            },
            "type": "table"
           }
          ]
         },
         "layout": {
          "annotationdefaults": {
           "arrowcolor": "#2a3f5f",
           "arrowhead": 0,
           "arrowwidth": 1
          },
          "autotypenumbers": "strict",
          "coloraxis": {
           "colorbar": {
            "outlinewidth": 0,
            "ticks": ""
           }
          },
          "colorscale": {
           "diverging": [
            [
             0,
             "#8e0152"
            ],
            [
             0.1,
             "#c51b7d"
            ],
            [
             0.2,
             "#de77ae"
            ],
            [
             0.3,
             "#f1b6da"
            ],
            [
             0.4,
             "#fde0ef"
            ],
            [
             0.5,
             "#f7f7f7"
            ],
            [
             0.6,
             "#e6f5d0"
            ],
            [
             0.7,
             "#b8e186"
            ],
            [
             0.8,
             "#7fbc41"
            ],
            [
             0.9,
             "#4d9221"
            ],
            [
             1,
             "#276419"
            ]
           ],
           "sequential": [
            [
             0,
             "#0d0887"
            ],
            [
             0.1111111111111111,
             "#46039f"
            ],
            [
             0.2222222222222222,
             "#7201a8"
            ],
            [
             0.3333333333333333,
             "#9c179e"
            ],
            [
             0.4444444444444444,
             "#bd3786"
            ],
            [
             0.5555555555555556,
             "#d8576b"
            ],
            [
             0.6666666666666666,
             "#ed7953"
            ],
            [
             0.7777777777777778,
             "#fb9f3a"
            ],
            [
             0.8888888888888888,
             "#fdca26"
            ],
            [
             1,
             "#f0f921"
            ]
           ],
           "sequentialminus": [
            [
             0,
             "#0d0887"
            ],
            [
             0.1111111111111111,
             "#46039f"
            ],
            [
             0.2222222222222222,
             "#7201a8"
            ],
            [
             0.3333333333333333,
             "#9c179e"
            ],
            [
             0.4444444444444444,
             "#bd3786"
            ],
            [
             0.5555555555555556,
             "#d8576b"
            ],
            [
             0.6666666666666666,
             "#ed7953"
            ],
            [
             0.7777777777777778,
             "#fb9f3a"
            ],
            [
             0.8888888888888888,
             "#fdca26"
            ],
            [
             1,
             "#f0f921"
            ]
           ]
          },
          "colorway": [
           "#636efa",
           "#EF553B",
           "#00cc96",
           "#ab63fa",
           "#FFA15A",
           "#19d3f3",
           "#FF6692",
           "#B6E880",
           "#FF97FF",
           "#FECB52"
          ],
          "font": {
           "color": "#2a3f5f"
          },
          "geo": {
           "bgcolor": "white",
           "lakecolor": "white",
           "landcolor": "#E5ECF6",
           "showlakes": true,
           "showland": true,
           "subunitcolor": "white"
          },
          "hoverlabel": {
           "align": "left"
          },
          "hovermode": "closest",
          "mapbox": {
           "style": "light"
          },
          "paper_bgcolor": "white",
          "plot_bgcolor": "#E5ECF6",
          "polar": {
           "angularaxis": {
            "gridcolor": "white",
            "linecolor": "white",
            "ticks": ""
           },
           "bgcolor": "#E5ECF6",
           "radialaxis": {
            "gridcolor": "white",
            "linecolor": "white",
            "ticks": ""
           }
          },
          "scene": {
           "xaxis": {
            "backgroundcolor": "#E5ECF6",
            "gridcolor": "white",
            "gridwidth": 2,
            "linecolor": "white",
            "showbackground": true,
            "ticks": "",
            "zerolinecolor": "white"
           },
           "yaxis": {
            "backgroundcolor": "#E5ECF6",
            "gridcolor": "white",
            "gridwidth": 2,
            "linecolor": "white",
            "showbackground": true,
            "ticks": "",
            "zerolinecolor": "white"
           },
           "zaxis": {
            "backgroundcolor": "#E5ECF6",
            "gridcolor": "white",
            "gridwidth": 2,
            "linecolor": "white",
            "showbackground": true,
            "ticks": "",
            "zerolinecolor": "white"
           }
          },
          "shapedefaults": {
           "line": {
            "color": "#2a3f5f"
           }
          },
          "ternary": {
           "aaxis": {
            "gridcolor": "white",
            "linecolor": "white",
            "ticks": ""
           },
           "baxis": {
            "gridcolor": "white",
            "linecolor": "white",
            "ticks": ""
           },
           "bgcolor": "#E5ECF6",
           "caxis": {
            "gridcolor": "white",
            "linecolor": "white",
            "ticks": ""
           }
          },
          "title": {
           "x": 0.05
          },
          "xaxis": {
           "automargin": true,
           "gridcolor": "white",
           "linecolor": "white",
           "ticks": "",
           "title": {
            "standoff": 15
           },
           "zerolinecolor": "white",
           "zerolinewidth": 2
          },
          "yaxis": {
           "automargin": true,
           "gridcolor": "white",
           "linecolor": "white",
           "ticks": "",
           "title": {
            "standoff": 15
           },
           "zerolinecolor": "white",
           "zerolinewidth": 2
          }
         }
        },
        "title": {
         "text": "Subway Recovery % Heatmap"
        },
        "xaxis": {
         "anchor": "y",
         "constrain": "domain",
         "domain": [
          0,
          1
         ],
         "scaleanchor": "y",
         "title": {
          "text": "Month"
         }
        },
        "yaxis": {
         "anchor": "x",
         "autorange": "reversed",
         "constrain": "domain",
         "domain": [
          0,
          1
         ],
         "title": {
          "text": "Year"
         }
        }
       }
      }
     },
     "metadata": {},
     "output_type": "display_data"
    },
    {
     "data": {
      "application/vnd.plotly.v1+json": {
       "config": {
        "plotlyServerURL": "https://plot.ly"
       },
       "data": [
        {
         "coloraxis": "coloraxis",
         "hovertemplate": "Month: %{x}<br>Year: %{y}<br>Bus Recovery %: %{z}<extra></extra>",
         "name": "0",
         "text": [
          [
           "",
           "",
           "53.4%",
           "1.0%",
           "1.0%",
           "1.2%",
           "1.6%",
           "2.8%",
           "47.7%",
           "50.6%",
           "53.1%",
           "48.8%"
          ],
          [
           "49.7%",
           "46.3%",
           "49.4%",
           "53.7%",
           "55.6%",
           "59.4%",
           "59.1%",
           "58.6%",
           "59.9%",
           "64.2%",
           "67.0%",
           "63.5%"
          ],
          [
           "54.3%",
           "60.6%",
           "62.3%",
           "63.2%",
           "64.2%",
           "65.7%",
           "63.2%",
           "63.5%",
           "62.5%",
           "64.6%",
           "67.5%",
           "63.5%"
          ],
          [
           "68.2%",
           "65.9%",
           "65.7%",
           "64.7%",
           "66.2%",
           "65.1%",
           "62.5%",
           "62.9%",
           "59.0%",
           "61.3%",
           "63.0%",
           "58.8%"
          ],
          [
           "60.0%",
           "60.1%",
           "58.5%",
           "58.8%",
           "58.5%",
           "58.7%",
           "57.7%",
           "56.2%",
           "63.1%",
           "66.1%",
           "",
           ""
          ]
         ],
         "textfont": {
          "size": 14
         },
         "texttemplate": "%{text}",
         "type": "heatmap",
         "x": [
          "January",
          "February",
          "March",
          "April",
          "May",
          "June",
          "July",
          "August",
          "September",
          "October",
          "November",
          "December"
         ],
         "xaxis": "x",
         "y": [
          2020,
          2021,
          2022,
          2023,
          2024
         ],
         "yaxis": "y",
         "z": {
          "bdata": "AAAAAAAA+H8AAAAAAAD4f7bWWmuttUpAAAAAAAAA8D8AAAAAAADwPzMzMzMzM/M/SimllFJK+T+21lprrbUGQJqZmZmZ2UdAU0oppZRSSUAREREREZFKQOecc845Z0hA11prrbXWSECSJEmSJClHQDLGGGOMsUhAmpmZmZnZSkBTSimllNJLQDMzMzMzs01AjDHGGGOMTUBKKaWUUkpNQDMzMzMz801AjDHGGGMMUEAiIiIiIsJQQMYYY4wxxk9AKaWUUkopS0CSJEmSJElOQCmllFJKKU9AVVVVVVWVT0DOOeeccw5QQKuqqqqqalBAGWOMMcaYT0DGGGOMMcZPQAAAAAAAQE9A55xzzjknUEDe3d3d3d1QQEIIIYQQwk9AjDHGGGMMUUBu27Zt23ZQQO+99957b1BAzczMzMwsUEBKKaWUUopQQERERERERFBAxhhjjDFGT0B0zjnnnHNPQAAAAAAAgE1AIYQQQgihTkAAAAAAAIBPQOecc845Z01AfO+99977TUA+jbDc0whOQMYYY4wxRk1Aq6qqqqpqTUDGGGOMMUZNQN7d3d3dXU1A11prrbXWTECVUkoppRRMQImIiIiIiE9AhBBCCCGEUEAAAAAAAAD4fwAAAAAAAPh/",
          "dtype": "f8",
          "shape": "5, 12"
         }
        }
       ],
       "layout": {
        "coloraxis": {
         "colorbar": {
          "title": {
           "text": "Bus Recovery %"
          }
         },
         "colorscale": [
          [
           0,
           "rgb(255,245,235)"
          ],
          [
           0.125,
           "rgb(254,230,206)"
          ],
          [
           0.25,
           "rgb(253,208,162)"
          ],
          [
           0.375,
           "rgb(253,174,107)"
          ],
          [
           0.5,
           "rgb(253,141,60)"
          ],
          [
           0.625,
           "rgb(241,105,19)"
          ],
          [
           0.75,
           "rgb(217,72,1)"
          ],
          [
           0.875,
           "rgb(166,54,3)"
          ],
          [
           1,
           "rgb(127,39,4)"
          ]
         ]
        },
        "margin": {
         "t": 60
        },
        "template": {
         "data": {
          "bar": [
           {
            "error_x": {
             "color": "#2a3f5f"
            },
            "error_y": {
             "color": "#2a3f5f"
            },
            "marker": {
             "line": {
              "color": "#E5ECF6",
              "width": 0.5
             },
             "pattern": {
              "fillmode": "overlay",
              "size": 10,
              "solidity": 0.2
             }
            },
            "type": "bar"
           }
          ],
          "barpolar": [
           {
            "marker": {
             "line": {
              "color": "#E5ECF6",
              "width": 0.5
             },
             "pattern": {
              "fillmode": "overlay",
              "size": 10,
              "solidity": 0.2
             }
            },
            "type": "barpolar"
           }
          ],
          "carpet": [
           {
            "aaxis": {
             "endlinecolor": "#2a3f5f",
             "gridcolor": "white",
             "linecolor": "white",
             "minorgridcolor": "white",
             "startlinecolor": "#2a3f5f"
            },
            "baxis": {
             "endlinecolor": "#2a3f5f",
             "gridcolor": "white",
             "linecolor": "white",
             "minorgridcolor": "white",
             "startlinecolor": "#2a3f5f"
            },
            "type": "carpet"
           }
          ],
          "choropleth": [
           {
            "colorbar": {
             "outlinewidth": 0,
             "ticks": ""
            },
            "type": "choropleth"
           }
          ],
          "contour": [
           {
            "colorbar": {
             "outlinewidth": 0,
             "ticks": ""
            },
            "colorscale": [
             [
              0,
              "#0d0887"
             ],
             [
              0.1111111111111111,
              "#46039f"
             ],
             [
              0.2222222222222222,
              "#7201a8"
             ],
             [
              0.3333333333333333,
              "#9c179e"
             ],
             [
              0.4444444444444444,
              "#bd3786"
             ],
             [
              0.5555555555555556,
              "#d8576b"
             ],
             [
              0.6666666666666666,
              "#ed7953"
             ],
             [
              0.7777777777777778,
              "#fb9f3a"
             ],
             [
              0.8888888888888888,
              "#fdca26"
             ],
             [
              1,
              "#f0f921"
             ]
            ],
            "type": "contour"
           }
          ],
          "contourcarpet": [
           {
            "colorbar": {
             "outlinewidth": 0,
             "ticks": ""
            },
            "type": "contourcarpet"
           }
          ],
          "heatmap": [
           {
            "colorbar": {
             "outlinewidth": 0,
             "ticks": ""
            },
            "colorscale": [
             [
              0,
              "#0d0887"
             ],
             [
              0.1111111111111111,
              "#46039f"
             ],
             [
              0.2222222222222222,
              "#7201a8"
             ],
             [
              0.3333333333333333,
              "#9c179e"
             ],
             [
              0.4444444444444444,
              "#bd3786"
             ],
             [
              0.5555555555555556,
              "#d8576b"
             ],
             [
              0.6666666666666666,
              "#ed7953"
             ],
             [
              0.7777777777777778,
              "#fb9f3a"
             ],
             [
              0.8888888888888888,
              "#fdca26"
             ],
             [
              1,
              "#f0f921"
             ]
            ],
            "type": "heatmap"
           }
          ],
          "histogram": [
           {
            "marker": {
             "pattern": {
              "fillmode": "overlay",
              "size": 10,
              "solidity": 0.2
             }
            },
            "type": "histogram"
           }
          ],
          "histogram2d": [
           {
            "colorbar": {
             "outlinewidth": 0,
             "ticks": ""
            },
            "colorscale": [
             [
              0,
              "#0d0887"
             ],
             [
              0.1111111111111111,
              "#46039f"
             ],
             [
              0.2222222222222222,
              "#7201a8"
             ],
             [
              0.3333333333333333,
              "#9c179e"
             ],
             [
              0.4444444444444444,
              "#bd3786"
             ],
             [
              0.5555555555555556,
              "#d8576b"
             ],
             [
              0.6666666666666666,
              "#ed7953"
             ],
             [
              0.7777777777777778,
              "#fb9f3a"
             ],
             [
              0.8888888888888888,
              "#fdca26"
             ],
             [
              1,
              "#f0f921"
             ]
            ],
            "type": "histogram2d"
           }
          ],
          "histogram2dcontour": [
           {
            "colorbar": {
             "outlinewidth": 0,
             "ticks": ""
            },
            "colorscale": [
             [
              0,
              "#0d0887"
             ],
             [
              0.1111111111111111,
              "#46039f"
             ],
             [
              0.2222222222222222,
              "#7201a8"
             ],
             [
              0.3333333333333333,
              "#9c179e"
             ],
             [
              0.4444444444444444,
              "#bd3786"
             ],
             [
              0.5555555555555556,
              "#d8576b"
             ],
             [
              0.6666666666666666,
              "#ed7953"
             ],
             [
              0.7777777777777778,
              "#fb9f3a"
             ],
             [
              0.8888888888888888,
              "#fdca26"
             ],
             [
              1,
              "#f0f921"
             ]
            ],
            "type": "histogram2dcontour"
           }
          ],
          "mesh3d": [
           {
            "colorbar": {
             "outlinewidth": 0,
             "ticks": ""
            },
            "type": "mesh3d"
           }
          ],
          "parcoords": [
           {
            "line": {
             "colorbar": {
              "outlinewidth": 0,
              "ticks": ""
             }
            },
            "type": "parcoords"
           }
          ],
          "pie": [
           {
            "automargin": true,
            "type": "pie"
           }
          ],
          "scatter": [
           {
            "fillpattern": {
             "fillmode": "overlay",
             "size": 10,
             "solidity": 0.2
            },
            "type": "scatter"
           }
          ],
          "scatter3d": [
           {
            "line": {
             "colorbar": {
              "outlinewidth": 0,
              "ticks": ""
             }
            },
            "marker": {
             "colorbar": {
              "outlinewidth": 0,
              "ticks": ""
             }
            },
            "type": "scatter3d"
           }
          ],
          "scattercarpet": [
           {
            "marker": {
             "colorbar": {
              "outlinewidth": 0,
              "ticks": ""
             }
            },
            "type": "scattercarpet"
           }
          ],
          "scattergeo": [
           {
            "marker": {
             "colorbar": {
              "outlinewidth": 0,
              "ticks": ""
             }
            },
            "type": "scattergeo"
           }
          ],
          "scattergl": [
           {
            "marker": {
             "colorbar": {
              "outlinewidth": 0,
              "ticks": ""
             }
            },
            "type": "scattergl"
           }
          ],
          "scattermap": [
           {
            "marker": {
             "colorbar": {
              "outlinewidth": 0,
              "ticks": ""
             }
            },
            "type": "scattermap"
           }
          ],
          "scattermapbox": [
           {
            "marker": {
             "colorbar": {
              "outlinewidth": 0,
              "ticks": ""
             }
            },
            "type": "scattermapbox"
           }
          ],
          "scatterpolar": [
           {
            "marker": {
             "colorbar": {
              "outlinewidth": 0,
              "ticks": ""
             }
            },
            "type": "scatterpolar"
           }
          ],
          "scatterpolargl": [
           {
            "marker": {
             "colorbar": {
              "outlinewidth": 0,
              "ticks": ""
             }
            },
            "type": "scatterpolargl"
           }
          ],
          "scatterternary": [
           {
            "marker": {
             "colorbar": {
              "outlinewidth": 0,
              "ticks": ""
             }
            },
            "type": "scatterternary"
           }
          ],
          "surface": [
           {
            "colorbar": {
             "outlinewidth": 0,
             "ticks": ""
            },
            "colorscale": [
             [
              0,
              "#0d0887"
             ],
             [
              0.1111111111111111,
              "#46039f"
             ],
             [
              0.2222222222222222,
              "#7201a8"
             ],
             [
              0.3333333333333333,
              "#9c179e"
             ],
             [
              0.4444444444444444,
              "#bd3786"
             ],
             [
              0.5555555555555556,
              "#d8576b"
             ],
             [
              0.6666666666666666,
              "#ed7953"
             ],
             [
              0.7777777777777778,
              "#fb9f3a"
             ],
             [
              0.8888888888888888,
              "#fdca26"
             ],
             [
              1,
              "#f0f921"
             ]
            ],
            "type": "surface"
           }
          ],
          "table": [
           {
            "cells": {
             "fill": {
              "color": "#EBF0F8"
             },
             "line": {
              "color": "white"
             }
            },
            "header": {
             "fill": {
              "color": "#C8D4E3"
             },
             "line": {
              "color": "white"
             }
            },
            "type": "table"
           }
          ]
         },
         "layout": {
          "annotationdefaults": {
           "arrowcolor": "#2a3f5f",
           "arrowhead": 0,
           "arrowwidth": 1
          },
          "autotypenumbers": "strict",
          "coloraxis": {
           "colorbar": {
            "outlinewidth": 0,
            "ticks": ""
           }
          },
          "colorscale": {
           "diverging": [
            [
             0,
             "#8e0152"
            ],
            [
             0.1,
             "#c51b7d"
            ],
            [
             0.2,
             "#de77ae"
            ],
            [
             0.3,
             "#f1b6da"
            ],
            [
             0.4,
             "#fde0ef"
            ],
            [
             0.5,
             "#f7f7f7"
            ],
            [
             0.6,
             "#e6f5d0"
            ],
            [
             0.7,
             "#b8e186"
            ],
            [
             0.8,
             "#7fbc41"
            ],
            [
             0.9,
             "#4d9221"
            ],
            [
             1,
             "#276419"
            ]
           ],
           "sequential": [
            [
             0,
             "#0d0887"
            ],
            [
             0.1111111111111111,
             "#46039f"
            ],
            [
             0.2222222222222222,
             "#7201a8"
            ],
            [
             0.3333333333333333,
             "#9c179e"
            ],
            [
             0.4444444444444444,
             "#bd3786"
            ],
            [
             0.5555555555555556,
             "#d8576b"
            ],
            [
             0.6666666666666666,
             "#ed7953"
            ],
            [
             0.7777777777777778,
             "#fb9f3a"
            ],
            [
             0.8888888888888888,
             "#fdca26"
            ],
            [
             1,
             "#f0f921"
            ]
           ],
           "sequentialminus": [
            [
             0,
             "#0d0887"
            ],
            [
             0.1111111111111111,
             "#46039f"
            ],
            [
             0.2222222222222222,
             "#7201a8"
            ],
            [
             0.3333333333333333,
             "#9c179e"
            ],
            [
             0.4444444444444444,
             "#bd3786"
            ],
            [
             0.5555555555555556,
             "#d8576b"
            ],
            [
             0.6666666666666666,
             "#ed7953"
            ],
            [
             0.7777777777777778,
             "#fb9f3a"
            ],
            [
             0.8888888888888888,
             "#fdca26"
            ],
            [
             1,
             "#f0f921"
            ]
           ]
          },
          "colorway": [
           "#636efa",
           "#EF553B",
           "#00cc96",
           "#ab63fa",
           "#FFA15A",
           "#19d3f3",
           "#FF6692",
           "#B6E880",
           "#FF97FF",
           "#FECB52"
          ],
          "font": {
           "color": "#2a3f5f"
          },
          "geo": {
           "bgcolor": "white",
           "lakecolor": "white",
           "landcolor": "#E5ECF6",
           "showlakes": true,
           "showland": true,
           "subunitcolor": "white"
          },
          "hoverlabel": {
           "align": "left"
          },
          "hovermode": "closest",
          "mapbox": {
           "style": "light"
          },
          "paper_bgcolor": "white",
          "plot_bgcolor": "#E5ECF6",
          "polar": {
           "angularaxis": {
            "gridcolor": "white",
            "linecolor": "white",
            "ticks": ""
           },
           "bgcolor": "#E5ECF6",
           "radialaxis": {
            "gridcolor": "white",
            "linecolor": "white",
            "ticks": ""
           }
          },
          "scene": {
           "xaxis": {
            "backgroundcolor": "#E5ECF6",
            "gridcolor": "white",
            "gridwidth": 2,
            "linecolor": "white",
            "showbackground": true,
            "ticks": "",
            "zerolinecolor": "white"
           },
           "yaxis": {
            "backgroundcolor": "#E5ECF6",
            "gridcolor": "white",
            "gridwidth": 2,
            "linecolor": "white",
            "showbackground": true,
            "ticks": "",
            "zerolinecolor": "white"
           },
           "zaxis": {
            "backgroundcolor": "#E5ECF6",
            "gridcolor": "white",
            "gridwidth": 2,
            "linecolor": "white",
            "showbackground": true,
            "ticks": "",
            "zerolinecolor": "white"
           }
          },
          "shapedefaults": {
           "line": {
            "color": "#2a3f5f"
           }
          },
          "ternary": {
           "aaxis": {
            "gridcolor": "white",
            "linecolor": "white",
            "ticks": ""
           },
           "baxis": {
            "gridcolor": "white",
            "linecolor": "white",
            "ticks": ""
           },
           "bgcolor": "#E5ECF6",
           "caxis": {
            "gridcolor": "white",
            "linecolor": "white",
            "ticks": ""
           }
          },
          "title": {
           "x": 0.05
          },
          "xaxis": {
           "automargin": true,
           "gridcolor": "white",
           "linecolor": "white",
           "ticks": "",
           "title": {
            "standoff": 15
           },
           "zerolinecolor": "white",
           "zerolinewidth": 2
          },
          "yaxis": {
           "automargin": true,
           "gridcolor": "white",
           "linecolor": "white",
           "ticks": "",
           "title": {
            "standoff": 15
           },
           "zerolinecolor": "white",
           "zerolinewidth": 2
          }
         }
        },
        "title": {
         "text": "Bus Recovery % Heatmap"
        },
        "xaxis": {
         "anchor": "y",
         "constrain": "domain",
         "domain": [
          0,
          1
         ],
         "scaleanchor": "y",
         "title": {
          "text": "Month"
         }
        },
        "yaxis": {
         "anchor": "x",
         "autorange": "reversed",
         "constrain": "domain",
         "domain": [
          0,
          1
         ],
         "title": {
          "text": "Year"
         }
        }
       }
      }
     },
     "metadata": {},
     "output_type": "display_data"
    }
   ],
   "source": [
    "import pandas as pd\n",
    "import plotly.express as px\n",
    "\n",
    "# Ensure logical month order\n",
    "month_order = [\n",
    "    'January', 'February', 'March', 'April', 'May', 'June',\n",
    "    'July', 'August', 'September', 'October', 'November', 'December'\n",
    "]\n",
    "df['month'] = pd.Categorical(df['month'], categories=month_order, ordered=True)\n",
    "\n",
    "# Group by year and month\n",
    "monthly_recovery = df.groupby(['year', 'month'])[['subway_%_pre_covid', 'bus_%_pre_covid']].mean().reset_index()\n",
    "\n",
    "# Prepare pivot table for Subway\n",
    "subway_pivot = monthly_recovery.pivot(index='year', columns='month', values='subway_%_pre_covid')[month_order]\n",
    "\n",
    "# Format the float values as strings with % sign\n",
    "# for 0%\n",
    "#subway_text = subway_pivot.fillna(0).round(0).astype(int).astype(str) + '%'\n",
    "# for blank\n",
    "subway_text = subway_pivot.applymap(lambda x: f\"{x:.1f}%\" if pd.notna(x) else \"\")\n",
    "\n",
    "\n",
    "# Plot Subway heatmap\n",
    "fig1 = px.imshow(\n",
    "    subway_pivot,\n",
    "    labels=dict(x=\"Month\", y=\"Year\", color=\"Subway Recovery %\"),\n",
    "    x=month_order,\n",
    "    y=sorted(df['year'].unique()),\n",
    "    color_continuous_scale=\"Blues\"\n",
    ")\n",
    "\n",
    "# Add formatted text and adjust font size\n",
    "fig1.update_traces(\n",
    "    text=subway_text.values,\n",
    "    texttemplate=\"%{text}\",\n",
    "    textfont=dict(size=14)\n",
    ")\n",
    "\n",
    "fig1.update_layout(title=\"Subway Recovery % Heatmap\")\n",
    "\n",
    "# Same steps for Bus\n",
    "bus_pivot = monthly_recovery.pivot(index='year', columns='month', values='bus_%_pre_covid')[month_order]\n",
    "# for 0%\n",
    "#bus_text = bus_pivot.fillna(0).round(0).astype(int).astype(str) + '%'\n",
    "# for blank\n",
    "bus_text = bus_pivot.applymap(lambda x: f\"{x:.1f}%\" if pd.notna(x) else \"\")\n",
    "\n",
    "\n",
    "fig2 = px.imshow(\n",
    "    bus_pivot,\n",
    "    labels=dict(x=\"Month\", y=\"Year\", color=\"Bus Recovery %\"),\n",
    "    x=month_order,\n",
    "    y=sorted(df['year'].unique()),\n",
    "    color_continuous_scale=\"Oranges\"\n",
    ")\n",
    "\n",
    "fig2.update_traces(\n",
    "    text=bus_text.values,\n",
    "    texttemplate=\"%{text}\",\n",
    "    textfont=dict(size=14)\n",
    ")\n",
    "\n",
    "fig2.update_layout(title=\"Bus Recovery % Heatmap\")\n",
    "\n",
    "# Show both\n",
    "fig1.show()\n",
    "fig2.show()"
   ]
  },
  {
   "cell_type": "markdown",
   "id": "b4ba94c0",
   "metadata": {},
   "source": [
    "## Mode-wise Deep Analysis"
   ]
  },
  {
   "cell_type": "markdown",
   "id": "fd4dc402",
   "metadata": {},
   "source": [
    "### Phase 1: Mode-wise % Recovery Trend (Weekday vs Weekend)"
   ]
  },
  {
   "cell_type": "code",
   "execution_count": 234,
   "id": "95f426a2",
   "metadata": {},
   "outputs": [
    {
     "data": {
      "application/vnd.plotly.v1+json": {
       "config": {
        "plotlyServerURL": "https://plot.ly"
       },
       "data": [
        {
         "line": {
          "color": "steelblue"
         },
         "mode": "lines+markers",
         "name": "Weekday",
         "showlegend": true,
         "type": "scatter",
         "x": [
          "2020-01-01T00:00:00.000000000",
          "2020-02-01T00:00:00.000000000",
          "2020-03-01T00:00:00.000000000",
          "2020-04-01T00:00:00.000000000",
          "2020-05-01T00:00:00.000000000",
          "2020-06-01T00:00:00.000000000",
          "2020-07-01T00:00:00.000000000",
          "2020-08-01T00:00:00.000000000",
          "2020-09-01T00:00:00.000000000",
          "2020-10-01T00:00:00.000000000",
          "2020-11-01T00:00:00.000000000",
          "2020-12-01T00:00:00.000000000",
          "2021-01-01T00:00:00.000000000",
          "2021-02-01T00:00:00.000000000",
          "2021-03-01T00:00:00.000000000",
          "2021-04-01T00:00:00.000000000",
          "2021-05-01T00:00:00.000000000",
          "2021-06-01T00:00:00.000000000",
          "2021-07-01T00:00:00.000000000",
          "2021-08-01T00:00:00.000000000",
          "2021-09-01T00:00:00.000000000",
          "2021-10-01T00:00:00.000000000",
          "2021-11-01T00:00:00.000000000",
          "2021-12-01T00:00:00.000000000",
          "2022-01-01T00:00:00.000000000",
          "2022-02-01T00:00:00.000000000",
          "2022-03-01T00:00:00.000000000",
          "2022-04-01T00:00:00.000000000",
          "2022-05-01T00:00:00.000000000",
          "2022-06-01T00:00:00.000000000",
          "2022-07-01T00:00:00.000000000",
          "2022-08-01T00:00:00.000000000",
          "2022-09-01T00:00:00.000000000",
          "2022-10-01T00:00:00.000000000",
          "2022-11-01T00:00:00.000000000",
          "2022-12-01T00:00:00.000000000",
          "2023-01-01T00:00:00.000000000",
          "2023-02-01T00:00:00.000000000",
          "2023-03-01T00:00:00.000000000",
          "2023-04-01T00:00:00.000000000",
          "2023-05-01T00:00:00.000000000",
          "2023-06-01T00:00:00.000000000",
          "2023-07-01T00:00:00.000000000",
          "2023-08-01T00:00:00.000000000",
          "2023-09-01T00:00:00.000000000",
          "2023-10-01T00:00:00.000000000",
          "2023-11-01T00:00:00.000000000",
          "2023-12-01T00:00:00.000000000",
          "2024-01-01T00:00:00.000000000",
          "2024-02-01T00:00:00.000000000",
          "2024-03-01T00:00:00.000000000",
          "2024-04-01T00:00:00.000000000",
          "2024-05-01T00:00:00.000000000",
          "2024-06-01T00:00:00.000000000",
          "2024-07-01T00:00:00.000000000",
          "2024-08-01T00:00:00.000000000",
          "2024-09-01T00:00:00.000000000",
          "2024-10-01T00:00:00.000000000",
          "2024-11-01T00:00:00.000000000",
          "2024-12-01T00:00:00.000000000"
         ],
         "xaxis": "x",
         "y": {
          "bdata": "AAAAAAAA+H8AAAAAAAD4f9FFF110UUlAL7rooosuIEC3bdu2bdskQKOLLrroIjFApze96U1vN0DoeZ7neZ45QAAAAAAAgDxAAAAAAACAPkAlSZIkSZJAQC1kIQtZyD1AkiRJkiRJQEAAAAAAAMA+QE5vetObXkBAjC666KLLQUDDMAzDMIxDQAAAAAAAgEZAdNFFF110R0CMLrroootHQAAAAAAAQEhAnud5nuf5SkBGF1100UVOQN/0pje96UtAkiRJkiTJSEDNzMzMzKxLQGQhC1nIwkxAVVVVVVVVTEDpoosuuihNQIwuuuiiS05Anud5nuf5TEAWspCFLORMQEYXXXTRRU5AVVVVVVXVTkBGF1100aVQQC+66KKLLlBAjC666KJLUUDNzMzMzKxQQJGFLGQhi1BAAAAAAABgUEALWchCFvJQQC+66KKLrlBAJUmSJElSUEBkIQtZyEJQQJ7neZ7nOVBARhdddNHFUEAXXXTRRTdSQHqe53me51BAQxaykIVsUUAMwzAMw/BQQHqe53me51BAdNFFF120UEAWspCFLCRRQDMzMzMzk1BAZCELWciCUECMLrrooktQQIZhGIZhmFFAb3rTm960UUAAAAAAAAD4fwAAAAAAAPh/",
          "dtype": "f8"
         },
         "yaxis": "y"
        },
        {
         "line": {
          "color": "darkorange"
         },
         "mode": "lines+markers",
         "name": "Weekend",
         "showlegend": true,
         "type": "scatter",
         "x": [
          "2020-01-01T00:00:00.000000000",
          "2020-02-01T00:00:00.000000000",
          "2020-03-01T00:00:00.000000000",
          "2020-04-01T00:00:00.000000000",
          "2020-05-01T00:00:00.000000000",
          "2020-06-01T00:00:00.000000000",
          "2020-07-01T00:00:00.000000000",
          "2020-08-01T00:00:00.000000000",
          "2020-09-01T00:00:00.000000000",
          "2020-10-01T00:00:00.000000000",
          "2020-11-01T00:00:00.000000000",
          "2020-12-01T00:00:00.000000000",
          "2021-01-01T00:00:00.000000000",
          "2021-02-01T00:00:00.000000000",
          "2021-03-01T00:00:00.000000000",
          "2021-04-01T00:00:00.000000000",
          "2021-05-01T00:00:00.000000000",
          "2021-06-01T00:00:00.000000000",
          "2021-07-01T00:00:00.000000000",
          "2021-08-01T00:00:00.000000000",
          "2021-09-01T00:00:00.000000000",
          "2021-10-01T00:00:00.000000000",
          "2021-11-01T00:00:00.000000000",
          "2021-12-01T00:00:00.000000000",
          "2022-01-01T00:00:00.000000000",
          "2022-02-01T00:00:00.000000000",
          "2022-03-01T00:00:00.000000000",
          "2022-04-01T00:00:00.000000000",
          "2022-05-01T00:00:00.000000000",
          "2022-06-01T00:00:00.000000000",
          "2022-07-01T00:00:00.000000000",
          "2022-08-01T00:00:00.000000000",
          "2022-09-01T00:00:00.000000000",
          "2022-10-01T00:00:00.000000000",
          "2022-11-01T00:00:00.000000000",
          "2022-12-01T00:00:00.000000000",
          "2023-01-01T00:00:00.000000000",
          "2023-02-01T00:00:00.000000000",
          "2023-03-01T00:00:00.000000000",
          "2023-04-01T00:00:00.000000000",
          "2023-05-01T00:00:00.000000000",
          "2023-06-01T00:00:00.000000000",
          "2023-07-01T00:00:00.000000000",
          "2023-08-01T00:00:00.000000000",
          "2023-09-01T00:00:00.000000000",
          "2023-10-01T00:00:00.000000000",
          "2023-11-01T00:00:00.000000000",
          "2023-12-01T00:00:00.000000000",
          "2024-01-01T00:00:00.000000000",
          "2024-02-01T00:00:00.000000000",
          "2024-03-01T00:00:00.000000000",
          "2024-04-01T00:00:00.000000000",
          "2024-05-01T00:00:00.000000000",
          "2024-06-01T00:00:00.000000000",
          "2024-07-01T00:00:00.000000000",
          "2024-08-01T00:00:00.000000000",
          "2024-09-01T00:00:00.000000000",
          "2024-10-01T00:00:00.000000000",
          "2024-11-01T00:00:00.000000000",
          "2024-12-01T00:00:00.000000000"
         ],
         "xaxis": "x",
         "y": {
          "bdata": "AAAAAAAA+H8AAAAAAAD4fzmO4ziO40hAAAAAAABAIUAAAAAAAAAnQAAAAAAA4DBAAAAAAACAOUAzMzMzM7M7QAAAAAAAgEBAchzHcRzHQUA5juM4jmNBQAAAAAAAAEBAZmZmZmbmQUAAAAAAAKBCQAAAAAAAUERAAAAAAABQRUAzMzMzM/NHQAAAAAAAoEtAAAAAAACATkDkOI7jOI5LQAAAAAAAoE5AAAAAAADAT0AAAAAAAKhQQAAAAAAAgE1AZmZmZmZmSkAAAAAAAAhQQAAAAAAAIFBAjuM4juN4UECO4ziO4/hQQAAAAAAAKFFAZmZmZmbGUUAAAAAAADBRQAAAAAAAsFFAMzMzMzPTUUAAAAAAAPBRQOQ4juM4jlBAjuM4juO4U0AAAAAAANhSQAAAAAAAOFNAAAAAAADgUkAAAAAAABhUQAAAAAAAeFNAMzMzMzPzU0AAAAAAAABUQDmO4ziOI1JAq6qqqqoqU0AAAAAAAHBTQGZmZmZmBlNAAAAAAAAoU0AAAAAAABhUQGZmZmZmhlNAAAAAAAAoVEAAAAAAAFBUQDMzMzMzE1NAAAAAAACwU0Acx3EcxzFTQOQ4juM4TlRAAAAAAABQVUAAAAAAAAD4fwAAAAAAAPh/",
          "dtype": "f8"
         },
         "yaxis": "y"
        },
        {
         "line": {
          "color": "steelblue"
         },
         "mode": "lines+markers",
         "name": "Weekday",
         "showlegend": false,
         "type": "scatter",
         "x": [
          "2020-01-01T00:00:00.000000000",
          "2020-02-01T00:00:00.000000000",
          "2020-03-01T00:00:00.000000000",
          "2020-04-01T00:00:00.000000000",
          "2020-05-01T00:00:00.000000000",
          "2020-06-01T00:00:00.000000000",
          "2020-07-01T00:00:00.000000000",
          "2020-08-01T00:00:00.000000000",
          "2020-09-01T00:00:00.000000000",
          "2020-10-01T00:00:00.000000000",
          "2020-11-01T00:00:00.000000000",
          "2020-12-01T00:00:00.000000000",
          "2021-01-01T00:00:00.000000000",
          "2021-02-01T00:00:00.000000000",
          "2021-03-01T00:00:00.000000000",
          "2021-04-01T00:00:00.000000000",
          "2021-05-01T00:00:00.000000000",
          "2021-06-01T00:00:00.000000000",
          "2021-07-01T00:00:00.000000000",
          "2021-08-01T00:00:00.000000000",
          "2021-09-01T00:00:00.000000000",
          "2021-10-01T00:00:00.000000000",
          "2021-11-01T00:00:00.000000000",
          "2021-12-01T00:00:00.000000000",
          "2022-01-01T00:00:00.000000000",
          "2022-02-01T00:00:00.000000000",
          "2022-03-01T00:00:00.000000000",
          "2022-04-01T00:00:00.000000000",
          "2022-05-01T00:00:00.000000000",
          "2022-06-01T00:00:00.000000000",
          "2022-07-01T00:00:00.000000000",
          "2022-08-01T00:00:00.000000000",
          "2022-09-01T00:00:00.000000000",
          "2022-10-01T00:00:00.000000000",
          "2022-11-01T00:00:00.000000000",
          "2022-12-01T00:00:00.000000000",
          "2023-01-01T00:00:00.000000000",
          "2023-02-01T00:00:00.000000000",
          "2023-03-01T00:00:00.000000000",
          "2023-04-01T00:00:00.000000000",
          "2023-05-01T00:00:00.000000000",
          "2023-06-01T00:00:00.000000000",
          "2023-07-01T00:00:00.000000000",
          "2023-08-01T00:00:00.000000000",
          "2023-09-01T00:00:00.000000000",
          "2023-10-01T00:00:00.000000000",
          "2023-11-01T00:00:00.000000000",
          "2023-12-01T00:00:00.000000000",
          "2024-01-01T00:00:00.000000000",
          "2024-02-01T00:00:00.000000000",
          "2024-03-01T00:00:00.000000000",
          "2024-04-01T00:00:00.000000000",
          "2024-05-01T00:00:00.000000000",
          "2024-06-01T00:00:00.000000000",
          "2024-07-01T00:00:00.000000000",
          "2024-08-01T00:00:00.000000000",
          "2024-09-01T00:00:00.000000000",
          "2024-10-01T00:00:00.000000000",
          "2024-11-01T00:00:00.000000000",
          "2024-12-01T00:00:00.000000000"
         ],
         "xaxis": "x2",
         "y": {
          "bdata": "AAAAAAAA+H8AAAAAAAD4f9FFF1100UpAAAAAAAAA8D8AAAAAAADwP1100UUXXfQ/yEIWspCF/D9u27Zt27YNQEYXXXTRBUdAdNFFF100SECrqqqqqipKQPWmN73pzUdAYhiGYRiGSECamZmZmVlGQIYsZCEL2UdARhdddNFFSkCGYRiGYRhLQIwuuuiii01ARhdddNGFTUC66KKLLvpNQNFFF1100U1Aq6qqqqoqUEBddNFFFx1RQL3pTW96U1BAep7neZ7nTEBmZmZmZqZOQEMWspCFrE9A27Zt27ZtT0BGF1100QVQQIwuuuiiq1BAPc/zPM9zT0BOb3rTm95PQHTRRRddNE9AJUmSJEkSUEBGF1100SVRQC+66KKLblBAdNFFF100UUAzMzMzM6NQQL3pTW96U1BAZmZmZmYWUEAWspCFLGRQQOmiiy66aFBAMQzDMAxDT0AAAAAAAIBPQJIkSZIkyU1AXXTRRRedTkDRRRdddNFPQBiGYRiGYU1Ab3rTm970TUAMwzAMw7BNQAAAAAAAAE1ARhdddNGFTEAtZCELWchMQAAAAAAAQE1A05ve9Ka3TEBGF1100UVMQNu2bdu2bU9ATm9605seUEAAAAAAAAD4fwAAAAAAAPh/",
          "dtype": "f8"
         },
         "yaxis": "y2"
        },
        {
         "line": {
          "color": "darkorange"
         },
         "mode": "lines+markers",
         "name": "Weekend",
         "showlegend": false,
         "type": "scatter",
         "x": [
          "2020-01-01T00:00:00.000000000",
          "2020-02-01T00:00:00.000000000",
          "2020-03-01T00:00:00.000000000",
          "2020-04-01T00:00:00.000000000",
          "2020-05-01T00:00:00.000000000",
          "2020-06-01T00:00:00.000000000",
          "2020-07-01T00:00:00.000000000",
          "2020-08-01T00:00:00.000000000",
          "2020-09-01T00:00:00.000000000",
          "2020-10-01T00:00:00.000000000",
          "2020-11-01T00:00:00.000000000",
          "2020-12-01T00:00:00.000000000",
          "2021-01-01T00:00:00.000000000",
          "2021-02-01T00:00:00.000000000",
          "2021-03-01T00:00:00.000000000",
          "2021-04-01T00:00:00.000000000",
          "2021-05-01T00:00:00.000000000",
          "2021-06-01T00:00:00.000000000",
          "2021-07-01T00:00:00.000000000",
          "2021-08-01T00:00:00.000000000",
          "2021-09-01T00:00:00.000000000",
          "2021-10-01T00:00:00.000000000",
          "2021-11-01T00:00:00.000000000",
          "2021-12-01T00:00:00.000000000",
          "2022-01-01T00:00:00.000000000",
          "2022-02-01T00:00:00.000000000",
          "2022-03-01T00:00:00.000000000",
          "2022-04-01T00:00:00.000000000",
          "2022-05-01T00:00:00.000000000",
          "2022-06-01T00:00:00.000000000",
          "2022-07-01T00:00:00.000000000",
          "2022-08-01T00:00:00.000000000",
          "2022-09-01T00:00:00.000000000",
          "2022-10-01T00:00:00.000000000",
          "2022-11-01T00:00:00.000000000",
          "2022-12-01T00:00:00.000000000",
          "2023-01-01T00:00:00.000000000",
          "2023-02-01T00:00:00.000000000",
          "2023-03-01T00:00:00.000000000",
          "2023-04-01T00:00:00.000000000",
          "2023-05-01T00:00:00.000000000",
          "2023-06-01T00:00:00.000000000",
          "2023-07-01T00:00:00.000000000",
          "2023-08-01T00:00:00.000000000",
          "2023-09-01T00:00:00.000000000",
          "2023-10-01T00:00:00.000000000",
          "2023-11-01T00:00:00.000000000",
          "2023-12-01T00:00:00.000000000",
          "2024-01-01T00:00:00.000000000",
          "2024-02-01T00:00:00.000000000",
          "2024-03-01T00:00:00.000000000",
          "2024-04-01T00:00:00.000000000",
          "2024-05-01T00:00:00.000000000",
          "2024-06-01T00:00:00.000000000",
          "2024-07-01T00:00:00.000000000",
          "2024-08-01T00:00:00.000000000",
          "2024-09-01T00:00:00.000000000",
          "2024-10-01T00:00:00.000000000",
          "2024-11-01T00:00:00.000000000",
          "2024-12-01T00:00:00.000000000"
         ],
         "xaxis": "x2",
         "y": {
          "bdata": "AAAAAAAA+H8AAAAAAAD4fxzHcRzHcUpAAAAAAAAA8D8AAAAAAADwPwAAAAAAAPA/AAAAAAAA8D8AAAAAAADwPwAAAAAAIEpA5DiO4zgOTEAAAAAAAIBLQAAAAAAAIEpAAAAAAACASUAAAAAAADBJQAAAAAAAIEtAAAAAAABwTECamZmZmVlNQAAAAAAAIE5Ax3Ecx3GcTUDHcRzHcZxLQAAAAAAAUE5AmpmZmZmZT0AAAAAAAJBPQAAAAAAAQE1AAAAAAACAR0AAAAAAAGBNQAAAAAAAsE1AHMdxHMfxT0A5juM4jiNQQAAAAAAAcE9AZmZmZmbmT0AAAAAAAIBPQAAAAAAAYE9AMzMzMzNTUEAAAAAAABhQQOQ4juM4Dk1Aq6qqqqqqUEAAAAAAAAhQQAAAAAAAwFBAmpmZmZlZUEAAAAAAAPhQQAAAAAAAwE9AzczMzMxMT0AAAAAAAFBPQFVVVVVV1UxAq6qqqqqqTkAAAAAAAKBOQDMzMzMzc01AAAAAAAAQTkAAAAAAAPBOQJqZmZmZ2U1AAAAAAADgT0AAAAAAALBOQJqZmZmZmU1AAAAAAAAwTUDHcRzHcZxLQHIcx3Ecx09AAAAAAACoUUAAAAAAAAD4fwAAAAAAAPh/",
          "dtype": "f8"
         },
         "yaxis": "y2"
        },
        {
         "line": {
          "color": "steelblue"
         },
         "mode": "lines+markers",
         "name": "Weekday",
         "showlegend": false,
         "type": "scatter",
         "x": [
          "2020-01-01T00:00:00.000000000",
          "2020-02-01T00:00:00.000000000",
          "2020-03-01T00:00:00.000000000",
          "2020-04-01T00:00:00.000000000",
          "2020-05-01T00:00:00.000000000",
          "2020-06-01T00:00:00.000000000",
          "2020-07-01T00:00:00.000000000",
          "2020-08-01T00:00:00.000000000",
          "2020-09-01T00:00:00.000000000",
          "2020-10-01T00:00:00.000000000",
          "2020-11-01T00:00:00.000000000",
          "2020-12-01T00:00:00.000000000",
          "2021-01-01T00:00:00.000000000",
          "2021-02-01T00:00:00.000000000",
          "2021-03-01T00:00:00.000000000",
          "2021-04-01T00:00:00.000000000",
          "2021-05-01T00:00:00.000000000",
          "2021-06-01T00:00:00.000000000",
          "2021-07-01T00:00:00.000000000",
          "2021-08-01T00:00:00.000000000",
          "2021-09-01T00:00:00.000000000",
          "2021-10-01T00:00:00.000000000",
          "2021-11-01T00:00:00.000000000",
          "2021-12-01T00:00:00.000000000",
          "2022-01-01T00:00:00.000000000",
          "2022-02-01T00:00:00.000000000",
          "2022-03-01T00:00:00.000000000",
          "2022-04-01T00:00:00.000000000",
          "2022-05-01T00:00:00.000000000",
          "2022-06-01T00:00:00.000000000",
          "2022-07-01T00:00:00.000000000",
          "2022-08-01T00:00:00.000000000",
          "2022-09-01T00:00:00.000000000",
          "2022-10-01T00:00:00.000000000",
          "2022-11-01T00:00:00.000000000",
          "2022-12-01T00:00:00.000000000",
          "2023-01-01T00:00:00.000000000",
          "2023-02-01T00:00:00.000000000",
          "2023-03-01T00:00:00.000000000",
          "2023-04-01T00:00:00.000000000",
          "2023-05-01T00:00:00.000000000",
          "2023-06-01T00:00:00.000000000",
          "2023-07-01T00:00:00.000000000",
          "2023-08-01T00:00:00.000000000",
          "2023-09-01T00:00:00.000000000",
          "2023-10-01T00:00:00.000000000",
          "2023-11-01T00:00:00.000000000",
          "2023-12-01T00:00:00.000000000",
          "2024-01-01T00:00:00.000000000",
          "2024-02-01T00:00:00.000000000",
          "2024-03-01T00:00:00.000000000",
          "2024-04-01T00:00:00.000000000",
          "2024-05-01T00:00:00.000000000",
          "2024-06-01T00:00:00.000000000",
          "2024-07-01T00:00:00.000000000",
          "2024-08-01T00:00:00.000000000",
          "2024-09-01T00:00:00.000000000",
          "2024-10-01T00:00:00.000000000",
          "2024-11-01T00:00:00.000000000",
          "2024-12-01T00:00:00.000000000"
         ],
         "xaxis": "x3",
         "y": {
          "bdata": "AAAAAAAA+H8AAAAAAAD4fwAAAAAAgEdAAAAAAAAACEC3bdu2bdsaQLrooosuui5AIQtZyEIWNkDbtm3btm02QIwuuuiiCz1A0UUXXXRRO0Bu27Zt2zZBQAtZyEIWsjhAq6qqqqqqOkBmZmZmZqY4QC1kIQtZyDlAjC666KILPED0PM/zPM9BQIwuuuiii0NA0UUXXXRRREDRRRdddJFDQEYXXXTRBUZA27Zt27btR0C66KKLLjpOQJGFLGQhC0hAbtu2bdu2REBmZmZmZsZIQNOb3vSmt0lAGIZhGIZhSkAXXXTRRZdLQHTRRRddNE5APc/zPM/zS0AtZCELWchLQHTRRRddNE5A9DzP8zxPTkCjiy666OJRQC+66KKL7k1A6aKLLrroT0DNzMzMzAxQQGQhC1nIQk9AmpmZmZkpUEDIQhaykAVRQF100UUXHVJAt23btm3bUEAAAAAAAABRQDEMwzAMw1FAAAAAAABgUkCMLrroogtWQGIYhmEYBlJAvelNb3qTUkDDMAzDMMxSQCVJkiRJUlJAXXTRRRe9UkA4velNb3pTQJqZmZmZ6VJAIQtZyEJWU0CMLrrooitTQDEMwzAMw1RA6k1vetPbVEAAAAAAAAD4fwAAAAAAAPh/",
          "dtype": "f8"
         },
         "yaxis": "y3"
        },
        {
         "line": {
          "color": "darkorange"
         },
         "mode": "lines+markers",
         "name": "Weekend",
         "showlegend": false,
         "type": "scatter",
         "x": [
          "2020-01-01T00:00:00.000000000",
          "2020-02-01T00:00:00.000000000",
          "2020-03-01T00:00:00.000000000",
          "2020-04-01T00:00:00.000000000",
          "2020-05-01T00:00:00.000000000",
          "2020-06-01T00:00:00.000000000",
          "2020-07-01T00:00:00.000000000",
          "2020-08-01T00:00:00.000000000",
          "2020-09-01T00:00:00.000000000",
          "2020-10-01T00:00:00.000000000",
          "2020-11-01T00:00:00.000000000",
          "2020-12-01T00:00:00.000000000",
          "2021-01-01T00:00:00.000000000",
          "2021-02-01T00:00:00.000000000",
          "2021-03-01T00:00:00.000000000",
          "2021-04-01T00:00:00.000000000",
          "2021-05-01T00:00:00.000000000",
          "2021-06-01T00:00:00.000000000",
          "2021-07-01T00:00:00.000000000",
          "2021-08-01T00:00:00.000000000",
          "2021-09-01T00:00:00.000000000",
          "2021-10-01T00:00:00.000000000",
          "2021-11-01T00:00:00.000000000",
          "2021-12-01T00:00:00.000000000",
          "2022-01-01T00:00:00.000000000",
          "2022-02-01T00:00:00.000000000",
          "2022-03-01T00:00:00.000000000",
          "2022-04-01T00:00:00.000000000",
          "2022-05-01T00:00:00.000000000",
          "2022-06-01T00:00:00.000000000",
          "2022-07-01T00:00:00.000000000",
          "2022-08-01T00:00:00.000000000",
          "2022-09-01T00:00:00.000000000",
          "2022-10-01T00:00:00.000000000",
          "2022-11-01T00:00:00.000000000",
          "2022-12-01T00:00:00.000000000",
          "2023-01-01T00:00:00.000000000",
          "2023-02-01T00:00:00.000000000",
          "2023-03-01T00:00:00.000000000",
          "2023-04-01T00:00:00.000000000",
          "2023-05-01T00:00:00.000000000",
          "2023-06-01T00:00:00.000000000",
          "2023-07-01T00:00:00.000000000",
          "2023-08-01T00:00:00.000000000",
          "2023-09-01T00:00:00.000000000",
          "2023-10-01T00:00:00.000000000",
          "2023-11-01T00:00:00.000000000",
          "2023-12-01T00:00:00.000000000",
          "2024-01-01T00:00:00.000000000",
          "2024-02-01T00:00:00.000000000",
          "2024-03-01T00:00:00.000000000",
          "2024-04-01T00:00:00.000000000",
          "2024-05-01T00:00:00.000000000",
          "2024-06-01T00:00:00.000000000",
          "2024-07-01T00:00:00.000000000",
          "2024-08-01T00:00:00.000000000",
          "2024-09-01T00:00:00.000000000",
          "2024-10-01T00:00:00.000000000",
          "2024-11-01T00:00:00.000000000",
          "2024-12-01T00:00:00.000000000"
         ],
         "xaxis": "x3",
         "y": {
          "bdata": "AAAAAAAA+H8AAAAAAAD4fxzHcRzHcUZAAAAAAAAAA0AzMzMzMzMhQAAAAAAAwDVAAAAAAAAAQECamZmZmdlAQAAAAAAAIERAx3Ecx3EcQ0DkOI7jOI5BQAAAAAAAgD9AMzMzMzMzPEAAAAAAAAA+QAAAAAAAcEJAAAAAAACgREBmZmZmZuZIQAAAAAAAGFBAx3Ecx3GcTkDHcRzHcRxMQAAAAAAAMFJAAAAAAACgUkAAAAAAAJhTQAAAAAAAsE5AZmZmZmamSEAAAAAAANBRQAAAAAAAmFBAVVVVVVXVUUCO4ziO4/hSQAAAAAAA2FVAAAAAAAAAU0AAAAAAAHBTQAAAAAAA+FVAAAAAAAAAVUAAAAAAAGhVQBzHcRzHsVFAOY7jOI7jVUAAAAAAAOBWQAAAAAAASFZAMzMzMzPzVUAAAAAAAJBYQAAAAAAAqFtAzczMzMxMWEAAAAAAABhZQI7jOI7j+FhAjuM4juO4WUAAAAAAAPhaQAAAAAAAgFhAAAAAAADYWEAAAAAAAKhcQGZmZmZmBlxAAAAAAAB4W0AAAAAAAChcQM3MzMzMDF5AAAAAAAAYW0BVVVVVVdVaQFVVVVVV1V5AAAAAAACAYEAAAAAAAAD4fwAAAAAAAPh/",
          "dtype": "f8"
         },
         "yaxis": "y3"
        },
        {
         "line": {
          "color": "steelblue"
         },
         "mode": "lines+markers",
         "name": "Weekday",
         "showlegend": false,
         "type": "scatter",
         "x": [
          "2020-01-01T00:00:00.000000000",
          "2020-02-01T00:00:00.000000000",
          "2020-03-01T00:00:00.000000000",
          "2020-04-01T00:00:00.000000000",
          "2020-05-01T00:00:00.000000000",
          "2020-06-01T00:00:00.000000000",
          "2020-07-01T00:00:00.000000000",
          "2020-08-01T00:00:00.000000000",
          "2020-09-01T00:00:00.000000000",
          "2020-10-01T00:00:00.000000000",
          "2020-11-01T00:00:00.000000000",
          "2020-12-01T00:00:00.000000000",
          "2021-01-01T00:00:00.000000000",
          "2021-02-01T00:00:00.000000000",
          "2021-03-01T00:00:00.000000000",
          "2021-04-01T00:00:00.000000000",
          "2021-05-01T00:00:00.000000000",
          "2021-06-01T00:00:00.000000000",
          "2021-07-01T00:00:00.000000000",
          "2021-08-01T00:00:00.000000000",
          "2021-09-01T00:00:00.000000000",
          "2021-10-01T00:00:00.000000000",
          "2021-11-01T00:00:00.000000000",
          "2021-12-01T00:00:00.000000000",
          "2022-01-01T00:00:00.000000000",
          "2022-02-01T00:00:00.000000000",
          "2022-03-01T00:00:00.000000000",
          "2022-04-01T00:00:00.000000000",
          "2022-05-01T00:00:00.000000000",
          "2022-06-01T00:00:00.000000000",
          "2022-07-01T00:00:00.000000000",
          "2022-08-01T00:00:00.000000000",
          "2022-09-01T00:00:00.000000000",
          "2022-10-01T00:00:00.000000000",
          "2022-11-01T00:00:00.000000000",
          "2022-12-01T00:00:00.000000000",
          "2023-01-01T00:00:00.000000000",
          "2023-02-01T00:00:00.000000000",
          "2023-03-01T00:00:00.000000000",
          "2023-04-01T00:00:00.000000000",
          "2023-05-01T00:00:00.000000000",
          "2023-06-01T00:00:00.000000000",
          "2023-07-01T00:00:00.000000000",
          "2023-08-01T00:00:00.000000000",
          "2023-09-01T00:00:00.000000000",
          "2023-10-01T00:00:00.000000000",
          "2023-11-01T00:00:00.000000000",
          "2023-12-01T00:00:00.000000000",
          "2024-01-01T00:00:00.000000000",
          "2024-02-01T00:00:00.000000000",
          "2024-03-01T00:00:00.000000000",
          "2024-04-01T00:00:00.000000000",
          "2024-05-01T00:00:00.000000000",
          "2024-06-01T00:00:00.000000000",
          "2024-07-01T00:00:00.000000000",
          "2024-08-01T00:00:00.000000000",
          "2024-09-01T00:00:00.000000000",
          "2024-10-01T00:00:00.000000000",
          "2024-11-01T00:00:00.000000000",
          "2024-12-01T00:00:00.000000000"
         ],
         "xaxis": "x4",
         "y": {
          "bdata": "AAAAAAAA+H8AAAAAAAD4fy+66KKLLk1AdNFFF110CUC3bdu2bdsSQNFFF1100SBAyEIWspCFKEDDMAzDMAwpQIwuuuiiiy5AAAAAAAAAL0BiGIZhGIYwQOpNb3rTmypAPc/zPM/zLECamZmZmZkrQMhCFrKQhS5AF1100UWXMEAlSZIkSZI0QLrooosuekFAo4suuugiQkAvuuiii65BQAAAAAAAgENAGIZhGIZhRUBddNFFF11KQAtZyEIWMkZADMMwDMMwQUDNzMzMzGxFQG9605ve9EhAJUmSJEkSSUDRRRdddFFKQBdddNFF10xAGIZhGIbhSkCGLGQhC9lKQBdddNFFl01ASZIkSZKkTUBGF1100YVRQF100UUXXU5AL7rooovuT0AzMzMzM1NPQJze9KY3vU9AmpmZmZl5T0CnN73pTS9RQC+66KKLrlFAkiRJkiSJUECykIUsZKFQQHqe53meZ1FAXXTRRRe9UUC66KKLLjpVQD3P8zzP81FA9aY3vekNUkAYhmEYhiFSQAAAAAAAAFJARhdddNEFUkDf9KY3velSQDMzMzMzo1JAetOb3vSmUkBddNFFF91RQCVJkiRJklNA9aY3venNU0AAAAAAAAD4fwAAAAAAAPh/",
          "dtype": "f8"
         },
         "yaxis": "y4"
        },
        {
         "line": {
          "color": "darkorange"
         },
         "mode": "lines+markers",
         "name": "Weekend",
         "showlegend": false,
         "type": "scatter",
         "x": [
          "2020-01-01T00:00:00.000000000",
          "2020-02-01T00:00:00.000000000",
          "2020-03-01T00:00:00.000000000",
          "2020-04-01T00:00:00.000000000",
          "2020-05-01T00:00:00.000000000",
          "2020-06-01T00:00:00.000000000",
          "2020-07-01T00:00:00.000000000",
          "2020-08-01T00:00:00.000000000",
          "2020-09-01T00:00:00.000000000",
          "2020-10-01T00:00:00.000000000",
          "2020-11-01T00:00:00.000000000",
          "2020-12-01T00:00:00.000000000",
          "2021-01-01T00:00:00.000000000",
          "2021-02-01T00:00:00.000000000",
          "2021-03-01T00:00:00.000000000",
          "2021-04-01T00:00:00.000000000",
          "2021-05-01T00:00:00.000000000",
          "2021-06-01T00:00:00.000000000",
          "2021-07-01T00:00:00.000000000",
          "2021-08-01T00:00:00.000000000",
          "2021-09-01T00:00:00.000000000",
          "2021-10-01T00:00:00.000000000",
          "2021-11-01T00:00:00.000000000",
          "2021-12-01T00:00:00.000000000",
          "2022-01-01T00:00:00.000000000",
          "2022-02-01T00:00:00.000000000",
          "2022-03-01T00:00:00.000000000",
          "2022-04-01T00:00:00.000000000",
          "2022-05-01T00:00:00.000000000",
          "2022-06-01T00:00:00.000000000",
          "2022-07-01T00:00:00.000000000",
          "2022-08-01T00:00:00.000000000",
          "2022-09-01T00:00:00.000000000",
          "2022-10-01T00:00:00.000000000",
          "2022-11-01T00:00:00.000000000",
          "2022-12-01T00:00:00.000000000",
          "2023-01-01T00:00:00.000000000",
          "2023-02-01T00:00:00.000000000",
          "2023-03-01T00:00:00.000000000",
          "2023-04-01T00:00:00.000000000",
          "2023-05-01T00:00:00.000000000",
          "2023-06-01T00:00:00.000000000",
          "2023-07-01T00:00:00.000000000",
          "2023-08-01T00:00:00.000000000",
          "2023-09-01T00:00:00.000000000",
          "2023-10-01T00:00:00.000000000",
          "2023-11-01T00:00:00.000000000",
          "2023-12-01T00:00:00.000000000",
          "2024-01-01T00:00:00.000000000",
          "2024-02-01T00:00:00.000000000",
          "2024-03-01T00:00:00.000000000",
          "2024-04-01T00:00:00.000000000",
          "2024-05-01T00:00:00.000000000",
          "2024-06-01T00:00:00.000000000",
          "2024-07-01T00:00:00.000000000",
          "2024-08-01T00:00:00.000000000",
          "2024-09-01T00:00:00.000000000",
          "2024-10-01T00:00:00.000000000",
          "2024-11-01T00:00:00.000000000",
          "2024-12-01T00:00:00.000000000"
         ],
         "xaxis": "x4",
         "y": {
          "bdata": "AAAAAAAA+H8AAAAAAAD4fwAAAAAAgEFAAAAAAAAACUAAAAAAAAAYQAAAAAAAwCdAAAAAAACAMEAAAAAAAIAyQAAAAAAAADhAchzHcRzHOUA5juM4juM0QAAAAAAAgDBAzczMzMxMMkAAAAAAAMAzQAAAAAAAADhAAAAAAABgOkDNzMzMzMw/QAAAAAAAIEdAOY7jOI5jR0CO4ziO4zhFQAAAAAAAUElAZmZmZmZmTEAAAAAAAPBMQAAAAAAAAEhAZmZmZmbmQkAAAAAAAFBKQAAAAAAAMExAchzHcRzHTUA5juM4juNOQAAAAAAA+FBAZmZmZmYGUEAAAAAAAGBQQAAAAAAA0FFAzczMzMxMUkAAAAAAAHhSQKuqqqqqqk9Aq6qqqqpqUUAAAAAAAPhQQAAAAAAAGFJAzczMzMyMUUAAAAAAAEBUQAAAAAAACFRAZmZmZmYGUkAAAAAAAGBUQDmO4ziOY1JAOY7jOI5jVEAAAAAAAOhVQAAAAAAAYFRAAAAAAAAYUkAAAAAAABhUQDMzMzMzk1RAAAAAAAAgVUAAAAAAAABWQGZmZmZmhlVAAAAAAACYVUByHMdxHMdUQI7jOI7j+FZAAAAAAADoWUAAAAAAAAD4fwAAAAAAAPh/",
          "dtype": "f8"
         },
         "yaxis": "y4"
        },
        {
         "line": {
          "color": "steelblue"
         },
         "mode": "lines+markers",
         "name": "Weekday",
         "showlegend": false,
         "type": "scatter",
         "x": [
          "2020-01-01T00:00:00.000000000",
          "2020-02-01T00:00:00.000000000",
          "2020-03-01T00:00:00.000000000",
          "2020-04-01T00:00:00.000000000",
          "2020-05-01T00:00:00.000000000",
          "2020-06-01T00:00:00.000000000",
          "2020-07-01T00:00:00.000000000",
          "2020-08-01T00:00:00.000000000",
          "2020-09-01T00:00:00.000000000",
          "2020-10-01T00:00:00.000000000",
          "2020-11-01T00:00:00.000000000",
          "2020-12-01T00:00:00.000000000",
          "2021-01-01T00:00:00.000000000",
          "2021-02-01T00:00:00.000000000",
          "2021-03-01T00:00:00.000000000",
          "2021-04-01T00:00:00.000000000",
          "2021-05-01T00:00:00.000000000",
          "2021-06-01T00:00:00.000000000",
          "2021-07-01T00:00:00.000000000",
          "2021-08-01T00:00:00.000000000",
          "2021-09-01T00:00:00.000000000",
          "2021-10-01T00:00:00.000000000",
          "2021-11-01T00:00:00.000000000",
          "2021-12-01T00:00:00.000000000",
          "2022-01-01T00:00:00.000000000",
          "2022-02-01T00:00:00.000000000",
          "2022-03-01T00:00:00.000000000",
          "2022-04-01T00:00:00.000000000",
          "2022-05-01T00:00:00.000000000",
          "2022-06-01T00:00:00.000000000",
          "2022-07-01T00:00:00.000000000",
          "2022-08-01T00:00:00.000000000",
          "2022-09-01T00:00:00.000000000",
          "2022-10-01T00:00:00.000000000",
          "2022-11-01T00:00:00.000000000",
          "2022-12-01T00:00:00.000000000",
          "2023-01-01T00:00:00.000000000",
          "2023-02-01T00:00:00.000000000",
          "2023-03-01T00:00:00.000000000",
          "2023-04-01T00:00:00.000000000",
          "2023-05-01T00:00:00.000000000",
          "2023-06-01T00:00:00.000000000",
          "2023-07-01T00:00:00.000000000",
          "2023-08-01T00:00:00.000000000",
          "2023-09-01T00:00:00.000000000",
          "2023-10-01T00:00:00.000000000",
          "2023-11-01T00:00:00.000000000",
          "2023-12-01T00:00:00.000000000",
          "2024-01-01T00:00:00.000000000",
          "2024-02-01T00:00:00.000000000",
          "2024-03-01T00:00:00.000000000",
          "2024-04-01T00:00:00.000000000",
          "2024-05-01T00:00:00.000000000",
          "2024-06-01T00:00:00.000000000",
          "2024-07-01T00:00:00.000000000",
          "2024-08-01T00:00:00.000000000",
          "2024-09-01T00:00:00.000000000",
          "2024-10-01T00:00:00.000000000",
          "2024-11-01T00:00:00.000000000",
          "2024-12-01T00:00:00.000000000"
         ],
         "xaxis": "x5",
         "y": {
          "bdata": "AAAAAAAA+H8AAAAAAAD4f6OLLrro4kpA6aKLLrroEkD0PM/zPM8XQHTRRRdddClAAAAAAAAAM0Dbtm3btm01QHTRRRdddDVAAAAAAACANEAxDMMwDMM6QIYsZCELWTNA27Zt27ZtNkAAAAAAAIA0QN/0pje96TVA6aKLLrroNkBJkiRJkiQ5QNFFF110UUBA6aKLLrroQUBddNFFFx1CQAAAAAAAAEJA27Zt27btQkBddNFFF51JQL3pTW9600RAMQzDMAxDQEAAAAAAAKBDQCELWchClkRA9DzP8zxPQ0BGF1100YVDQNFFF110EUZAnud5nud5RkDIQhaykIVFQBdddNFFF0VAwzAMwzAMREB00UUXXfRJQHTRRRdddEVA6aKLLrroR0CamZmZmXlFQAtZyEIWMkZAAAAAAABgRUDqTW9605tFQBdddNFFl0ZASZIkSZKkR0ALWchCFrJHQM/zPM/zvEVAAAAAAABARUAXXXTRRddLQM/zPM/zvEVAb3rTm970RkDoeZ7neZ5GQPQ8z/M8T0ZAuuiiiy46RUCnN73pTW9FQDMzMzMz00VAOL3pTW/6SEAAAAAAAMBHQAzDMAzDMEhAnN70pjc9RkAAAAAAAAD4fwAAAAAAAPh/",
          "dtype": "f8"
         },
         "yaxis": "y5"
        },
        {
         "line": {
          "color": "darkorange"
         },
         "mode": "lines+markers",
         "name": "Weekend",
         "showlegend": false,
         "type": "scatter",
         "x": [
          "2020-01-01T00:00:00.000000000",
          "2020-02-01T00:00:00.000000000",
          "2020-03-01T00:00:00.000000000",
          "2020-04-01T00:00:00.000000000",
          "2020-05-01T00:00:00.000000000",
          "2020-06-01T00:00:00.000000000",
          "2020-07-01T00:00:00.000000000",
          "2020-08-01T00:00:00.000000000",
          "2020-09-01T00:00:00.000000000",
          "2020-10-01T00:00:00.000000000",
          "2020-11-01T00:00:00.000000000",
          "2020-12-01T00:00:00.000000000",
          "2021-01-01T00:00:00.000000000",
          "2021-02-01T00:00:00.000000000",
          "2021-03-01T00:00:00.000000000",
          "2021-04-01T00:00:00.000000000",
          "2021-05-01T00:00:00.000000000",
          "2021-06-01T00:00:00.000000000",
          "2021-07-01T00:00:00.000000000",
          "2021-08-01T00:00:00.000000000",
          "2021-09-01T00:00:00.000000000",
          "2021-10-01T00:00:00.000000000",
          "2021-11-01T00:00:00.000000000",
          "2021-12-01T00:00:00.000000000",
          "2022-01-01T00:00:00.000000000",
          "2022-02-01T00:00:00.000000000",
          "2022-03-01T00:00:00.000000000",
          "2022-04-01T00:00:00.000000000",
          "2022-05-01T00:00:00.000000000",
          "2022-06-01T00:00:00.000000000",
          "2022-07-01T00:00:00.000000000",
          "2022-08-01T00:00:00.000000000",
          "2022-09-01T00:00:00.000000000",
          "2022-10-01T00:00:00.000000000",
          "2022-11-01T00:00:00.000000000",
          "2022-12-01T00:00:00.000000000",
          "2023-01-01T00:00:00.000000000",
          "2023-02-01T00:00:00.000000000",
          "2023-03-01T00:00:00.000000000",
          "2023-04-01T00:00:00.000000000",
          "2023-05-01T00:00:00.000000000",
          "2023-06-01T00:00:00.000000000",
          "2023-07-01T00:00:00.000000000",
          "2023-08-01T00:00:00.000000000",
          "2023-09-01T00:00:00.000000000",
          "2023-10-01T00:00:00.000000000",
          "2023-11-01T00:00:00.000000000",
          "2023-12-01T00:00:00.000000000",
          "2024-01-01T00:00:00.000000000",
          "2024-02-01T00:00:00.000000000",
          "2024-03-01T00:00:00.000000000",
          "2024-04-01T00:00:00.000000000",
          "2024-05-01T00:00:00.000000000",
          "2024-06-01T00:00:00.000000000",
          "2024-07-01T00:00:00.000000000",
          "2024-08-01T00:00:00.000000000",
          "2024-09-01T00:00:00.000000000",
          "2024-10-01T00:00:00.000000000",
          "2024-11-01T00:00:00.000000000",
          "2024-12-01T00:00:00.000000000"
         ],
         "xaxis": "x5",
         "y": {
          "bdata": "AAAAAAAA+H8AAAAAAAD4fzmO4ziO40BAAAAAAABAIUAAAAAAAAAgQAAAAAAAAA9AAAAAAABAL0DNzMzMzEwyQAAAAAAAAB5AchzHcRzHL0CO4ziO4zgqQAAAAAAAgC1AzczMzMzMOUAAAAAAAOA+QAAAAAAAANA/AAAAAACALkDNzMzMzMwuQAAAAAAAgCFAx3Ecx3EcM0A5juM4juMuQAAAAAAAQE5AzczMzMyMREAAAAAAAMhQQAAAAAAAwEBAzczMzMwMREAAAAAAANBIQAAAAAAAsEZAjuM4juM4OUByHMdxHEdEQAAAAAAAAEBAMzMzMzMzNEAAAAAAAMA+QAAAAAAAAExAZmZmZmbmOUAAAAAAALBOQOQ4juM4jkFA5DiO4zgOTEAAAAAAAEBDQAAAAAAAsENAMzMzMzMzREAAAAAAALBLQAAAAAAAAEdAAAAAAADASEAAAAAAAHBNQMdxHMdxHE9Ax3Ecx3GcS0AAAAAAAMhSQAAAAAAAwEtAAAAAAABQS0AAAAAAAGBNQM3MzMzMTEtAAAAAAABgTEAAAAAAAIBPQJqZmZmZWU1AAAAAAACwTECrqqqqqqpOQKuqqqqqalRAAAAAAAAwU0AAAAAAAAD4fwAAAAAAAPh/",
          "dtype": "f8"
         },
         "yaxis": "y5"
        },
        {
         "line": {
          "color": "steelblue"
         },
         "mode": "lines+markers",
         "name": "Weekday",
         "showlegend": false,
         "type": "scatter",
         "x": [
          "2020-01-01T00:00:00.000000000",
          "2020-02-01T00:00:00.000000000",
          "2020-03-01T00:00:00.000000000",
          "2020-04-01T00:00:00.000000000",
          "2020-05-01T00:00:00.000000000",
          "2020-06-01T00:00:00.000000000",
          "2020-07-01T00:00:00.000000000",
          "2020-08-01T00:00:00.000000000",
          "2020-09-01T00:00:00.000000000",
          "2020-10-01T00:00:00.000000000",
          "2020-11-01T00:00:00.000000000",
          "2020-12-01T00:00:00.000000000",
          "2021-01-01T00:00:00.000000000",
          "2021-02-01T00:00:00.000000000",
          "2021-03-01T00:00:00.000000000",
          "2021-04-01T00:00:00.000000000",
          "2021-05-01T00:00:00.000000000",
          "2021-06-01T00:00:00.000000000",
          "2021-07-01T00:00:00.000000000",
          "2021-08-01T00:00:00.000000000",
          "2021-09-01T00:00:00.000000000",
          "2021-10-01T00:00:00.000000000",
          "2021-11-01T00:00:00.000000000",
          "2021-12-01T00:00:00.000000000",
          "2022-01-01T00:00:00.000000000",
          "2022-02-01T00:00:00.000000000",
          "2022-03-01T00:00:00.000000000",
          "2022-04-01T00:00:00.000000000",
          "2022-05-01T00:00:00.000000000",
          "2022-06-01T00:00:00.000000000",
          "2022-07-01T00:00:00.000000000",
          "2022-08-01T00:00:00.000000000",
          "2022-09-01T00:00:00.000000000",
          "2022-10-01T00:00:00.000000000",
          "2022-11-01T00:00:00.000000000",
          "2022-12-01T00:00:00.000000000",
          "2023-01-01T00:00:00.000000000",
          "2023-02-01T00:00:00.000000000",
          "2023-03-01T00:00:00.000000000",
          "2023-04-01T00:00:00.000000000",
          "2023-05-01T00:00:00.000000000",
          "2023-06-01T00:00:00.000000000",
          "2023-07-01T00:00:00.000000000",
          "2023-08-01T00:00:00.000000000",
          "2023-09-01T00:00:00.000000000",
          "2023-10-01T00:00:00.000000000",
          "2023-11-01T00:00:00.000000000",
          "2023-12-01T00:00:00.000000000",
          "2024-01-01T00:00:00.000000000",
          "2024-02-01T00:00:00.000000000",
          "2024-03-01T00:00:00.000000000",
          "2024-04-01T00:00:00.000000000",
          "2024-05-01T00:00:00.000000000",
          "2024-06-01T00:00:00.000000000",
          "2024-07-01T00:00:00.000000000",
          "2024-08-01T00:00:00.000000000",
          "2024-09-01T00:00:00.000000000",
          "2024-10-01T00:00:00.000000000",
          "2024-11-01T00:00:00.000000000",
          "2024-12-01T00:00:00.000000000"
         ],
         "xaxis": "x6",
         "y": {
          "bdata": "AAAAAAAA+H8AAAAAAAD4f4wuuuiia1FAo4suuugiOEBVVVVVVVU/QOmiiy66aEdAnN70pje9TUCSJEmSJIlQQEYXXXTRJVFAjC666KILUkAMwzAMw/BRQBaykIUsZFFAGIZhGIZhUkBmZmZmZuZPQFnIQhay0FFAdNFFF130UkBVVVVVVRVTQBdddNFF91NAjC666KJrU0CMLrroootTQOmiiy66qFJAt23btm1bU0CMLrroootSQEMWspCF7FFAAAAAAADAUEBmZmZmZoZSQLKQhSxk4VNAz/M8z/N8VEDpoosuukhUQEYXXXTRRVVAz/M8z/M8VUDTm970pvdVQBdddNFFd1VA6Hme53neVUAvuuiii+5VQEYXXXTRxVVAL7rooouOV0CamZmZmWlXQGQhC1nIAlhAmpmZmZlpWECc3vSmN31YQBdddNFF11hAPc/zPM/zWED1pje96c1ZQIZhGIZhWFlA0UUXXXQRWkDRRRdddNFZQJ7neZ7n+VlAWchCFrIQW0D0PM/zPE9bQIZhGIZhmFxAL7rooovuXECnN73pTW9dQDMzMzMzs11A6k1vetNbXkBGF1100QVfQFVVVVVV1V5AyEIWspBFX0AAAAAAAAD4fwAAAAAAAPh/",
          "dtype": "f8"
         },
         "yaxis": "y6"
        },
        {
         "line": {
          "color": "darkorange"
         },
         "mode": "lines+markers",
         "name": "Weekend",
         "showlegend": false,
         "type": "scatter",
         "x": [
          "2020-01-01T00:00:00.000000000",
          "2020-02-01T00:00:00.000000000",
          "2020-03-01T00:00:00.000000000",
          "2020-04-01T00:00:00.000000000",
          "2020-05-01T00:00:00.000000000",
          "2020-06-01T00:00:00.000000000",
          "2020-07-01T00:00:00.000000000",
          "2020-08-01T00:00:00.000000000",
          "2020-09-01T00:00:00.000000000",
          "2020-10-01T00:00:00.000000000",
          "2020-11-01T00:00:00.000000000",
          "2020-12-01T00:00:00.000000000",
          "2021-01-01T00:00:00.000000000",
          "2021-02-01T00:00:00.000000000",
          "2021-03-01T00:00:00.000000000",
          "2021-04-01T00:00:00.000000000",
          "2021-05-01T00:00:00.000000000",
          "2021-06-01T00:00:00.000000000",
          "2021-07-01T00:00:00.000000000",
          "2021-08-01T00:00:00.000000000",
          "2021-09-01T00:00:00.000000000",
          "2021-10-01T00:00:00.000000000",
          "2021-11-01T00:00:00.000000000",
          "2021-12-01T00:00:00.000000000",
          "2022-01-01T00:00:00.000000000",
          "2022-02-01T00:00:00.000000000",
          "2022-03-01T00:00:00.000000000",
          "2022-04-01T00:00:00.000000000",
          "2022-05-01T00:00:00.000000000",
          "2022-06-01T00:00:00.000000000",
          "2022-07-01T00:00:00.000000000",
          "2022-08-01T00:00:00.000000000",
          "2022-09-01T00:00:00.000000000",
          "2022-10-01T00:00:00.000000000",
          "2022-11-01T00:00:00.000000000",
          "2022-12-01T00:00:00.000000000",
          "2023-01-01T00:00:00.000000000",
          "2023-02-01T00:00:00.000000000",
          "2023-03-01T00:00:00.000000000",
          "2023-04-01T00:00:00.000000000",
          "2023-05-01T00:00:00.000000000",
          "2023-06-01T00:00:00.000000000",
          "2023-07-01T00:00:00.000000000",
          "2023-08-01T00:00:00.000000000",
          "2023-09-01T00:00:00.000000000",
          "2023-10-01T00:00:00.000000000",
          "2023-11-01T00:00:00.000000000",
          "2023-12-01T00:00:00.000000000",
          "2024-01-01T00:00:00.000000000",
          "2024-02-01T00:00:00.000000000",
          "2024-03-01T00:00:00.000000000",
          "2024-04-01T00:00:00.000000000",
          "2024-05-01T00:00:00.000000000",
          "2024-06-01T00:00:00.000000000",
          "2024-07-01T00:00:00.000000000",
          "2024-08-01T00:00:00.000000000",
          "2024-09-01T00:00:00.000000000",
          "2024-10-01T00:00:00.000000000",
          "2024-11-01T00:00:00.000000000",
          "2024-12-01T00:00:00.000000000"
         ],
         "xaxis": "x6",
         "y": {
          "bdata": "AAAAAAAA+H8AAAAAAAD4fxzHcRzHcVBAAAAAAAAgNEBmZmZmZmY7QAAAAAAA0EJAAAAAAABASUDNzMzMzMxLQAAAAAAAsE9Aq6qqqqqqT0Acx3Ecx3FPQAAAAAAAYE1AAAAAAAAAUkAAAAAAANBNQAAAAAAACFBAAAAAAADAUEAAAAAAAABSQAAAAAAAwFJAOY7jOI7jU0CrqqqqqmpRQAAAAAAAwFJAzczMzMzsUUAAAAAAABBRQAAAAAAAsFBAAAAAAACATEAAAAAAAGBRQAAAAAAA0FFAq6qqqqqqU0DkOI7jOA5UQAAAAAAAqFRAzczMzMzsVUAAAAAAANhVQAAAAAAAaFZAZmZmZmbmVEAAAAAAANBUQOQ4juM4jlVAchzHcRyHWkAAAAAAAJBXQAAAAAAAqFdAZmZmZmamV0AAAAAAABhaQAAAAAAAcFlAzczMzMzMWkAAAAAAALBaQBzHcRzHsVlAchzHcRxHWUAAAAAAAHBZQDMzMzMzE1tAAAAAAAAQXkAAAAAAAMBdQDMzMzMzk11AAAAAAAA4XkAAAAAAADhgQDMzMzMz019AAAAAAACYYEBVVVVVVRVgQFVVVVVV1WBAAAAAAACAYEAAAAAAAAD4fwAAAAAAAPh/",
          "dtype": "f8"
         },
         "yaxis": "y6"
        }
       ],
       "layout": {
        "annotations": [
         {
          "font": {
           "size": 16
          },
          "showarrow": false,
          "text": "Subway % Pre Covid Recovery Trend",
          "x": 0.14444444444444446,
          "xanchor": "center",
          "xref": "paper",
          "y": 1,
          "yanchor": "bottom",
          "yref": "paper"
         },
         {
          "font": {
           "size": 16
          },
          "showarrow": false,
          "text": "Bus % Pre Covid Recovery Trend",
          "x": 0.5,
          "xanchor": "center",
          "xref": "paper",
          "y": 1,
          "yanchor": "bottom",
          "yref": "paper"
         },
         {
          "font": {
           "size": 16
          },
          "showarrow": false,
          "text": "Lirr % Pre Covid Recovery Trend",
          "x": 0.8555555555555556,
          "xanchor": "center",
          "xref": "paper",
          "y": 1,
          "yanchor": "bottom",
          "yref": "paper"
         },
         {
          "font": {
           "size": 16
          },
          "showarrow": false,
          "text": "Metro % Pre Covid Recovery Trend",
          "x": 0.14444444444444446,
          "xanchor": "center",
          "xref": "paper",
          "y": 0.375,
          "yanchor": "bottom",
          "yref": "paper"
         },
         {
          "font": {
           "size": 16
          },
          "showarrow": false,
          "text": "Sir % Pre Covid Recovery Trend",
          "x": 0.5,
          "xanchor": "center",
          "xref": "paper",
          "y": 0.375,
          "yanchor": "bottom",
          "yref": "paper"
         },
         {
          "font": {
           "size": 16
          },
          "showarrow": false,
          "text": "Access % Pre Covid Recovery Trend",
          "x": 0.8555555555555556,
          "xanchor": "center",
          "xref": "paper",
          "y": 0.375,
          "yanchor": "bottom",
          "yref": "paper"
         }
        ],
        "height": 800,
        "legend": {
         "x": 1,
         "y": 1
        },
        "template": {
         "data": {
          "bar": [
           {
            "error_x": {
             "color": "#2a3f5f"
            },
            "error_y": {
             "color": "#2a3f5f"
            },
            "marker": {
             "line": {
              "color": "white",
              "width": 0.5
             },
             "pattern": {
              "fillmode": "overlay",
              "size": 10,
              "solidity": 0.2
             }
            },
            "type": "bar"
           }
          ],
          "barpolar": [
           {
            "marker": {
             "line": {
              "color": "white",
              "width": 0.5
             },
             "pattern": {
              "fillmode": "overlay",
              "size": 10,
              "solidity": 0.2
             }
            },
            "type": "barpolar"
           }
          ],
          "carpet": [
           {
            "aaxis": {
             "endlinecolor": "#2a3f5f",
             "gridcolor": "#C8D4E3",
             "linecolor": "#C8D4E3",
             "minorgridcolor": "#C8D4E3",
             "startlinecolor": "#2a3f5f"
            },
            "baxis": {
             "endlinecolor": "#2a3f5f",
             "gridcolor": "#C8D4E3",
             "linecolor": "#C8D4E3",
             "minorgridcolor": "#C8D4E3",
             "startlinecolor": "#2a3f5f"
            },
            "type": "carpet"
           }
          ],
          "choropleth": [
           {
            "colorbar": {
             "outlinewidth": 0,
             "ticks": ""
            },
            "type": "choropleth"
           }
          ],
          "contour": [
           {
            "colorbar": {
             "outlinewidth": 0,
             "ticks": ""
            },
            "colorscale": [
             [
              0,
              "#0d0887"
             ],
             [
              0.1111111111111111,
              "#46039f"
             ],
             [
              0.2222222222222222,
              "#7201a8"
             ],
             [
              0.3333333333333333,
              "#9c179e"
             ],
             [
              0.4444444444444444,
              "#bd3786"
             ],
             [
              0.5555555555555556,
              "#d8576b"
             ],
             [
              0.6666666666666666,
              "#ed7953"
             ],
             [
              0.7777777777777778,
              "#fb9f3a"
             ],
             [
              0.8888888888888888,
              "#fdca26"
             ],
             [
              1,
              "#f0f921"
             ]
            ],
            "type": "contour"
           }
          ],
          "contourcarpet": [
           {
            "colorbar": {
             "outlinewidth": 0,
             "ticks": ""
            },
            "type": "contourcarpet"
           }
          ],
          "heatmap": [
           {
            "colorbar": {
             "outlinewidth": 0,
             "ticks": ""
            },
            "colorscale": [
             [
              0,
              "#0d0887"
             ],
             [
              0.1111111111111111,
              "#46039f"
             ],
             [
              0.2222222222222222,
              "#7201a8"
             ],
             [
              0.3333333333333333,
              "#9c179e"
             ],
             [
              0.4444444444444444,
              "#bd3786"
             ],
             [
              0.5555555555555556,
              "#d8576b"
             ],
             [
              0.6666666666666666,
              "#ed7953"
             ],
             [
              0.7777777777777778,
              "#fb9f3a"
             ],
             [
              0.8888888888888888,
              "#fdca26"
             ],
             [
              1,
              "#f0f921"
             ]
            ],
            "type": "heatmap"
           }
          ],
          "histogram": [
           {
            "marker": {
             "pattern": {
              "fillmode": "overlay",
              "size": 10,
              "solidity": 0.2
             }
            },
            "type": "histogram"
           }
          ],
          "histogram2d": [
           {
            "colorbar": {
             "outlinewidth": 0,
             "ticks": ""
            },
            "colorscale": [
             [
              0,
              "#0d0887"
             ],
             [
              0.1111111111111111,
              "#46039f"
             ],
             [
              0.2222222222222222,
              "#7201a8"
             ],
             [
              0.3333333333333333,
              "#9c179e"
             ],
             [
              0.4444444444444444,
              "#bd3786"
             ],
             [
              0.5555555555555556,
              "#d8576b"
             ],
             [
              0.6666666666666666,
              "#ed7953"
             ],
             [
              0.7777777777777778,
              "#fb9f3a"
             ],
             [
              0.8888888888888888,
              "#fdca26"
             ],
             [
              1,
              "#f0f921"
             ]
            ],
            "type": "histogram2d"
           }
          ],
          "histogram2dcontour": [
           {
            "colorbar": {
             "outlinewidth": 0,
             "ticks": ""
            },
            "colorscale": [
             [
              0,
              "#0d0887"
             ],
             [
              0.1111111111111111,
              "#46039f"
             ],
             [
              0.2222222222222222,
              "#7201a8"
             ],
             [
              0.3333333333333333,
              "#9c179e"
             ],
             [
              0.4444444444444444,
              "#bd3786"
             ],
             [
              0.5555555555555556,
              "#d8576b"
             ],
             [
              0.6666666666666666,
              "#ed7953"
             ],
             [
              0.7777777777777778,
              "#fb9f3a"
             ],
             [
              0.8888888888888888,
              "#fdca26"
             ],
             [
              1,
              "#f0f921"
             ]
            ],
            "type": "histogram2dcontour"
           }
          ],
          "mesh3d": [
           {
            "colorbar": {
             "outlinewidth": 0,
             "ticks": ""
            },
            "type": "mesh3d"
           }
          ],
          "parcoords": [
           {
            "line": {
             "colorbar": {
              "outlinewidth": 0,
              "ticks": ""
             }
            },
            "type": "parcoords"
           }
          ],
          "pie": [
           {
            "automargin": true,
            "type": "pie"
           }
          ],
          "scatter": [
           {
            "fillpattern": {
             "fillmode": "overlay",
             "size": 10,
             "solidity": 0.2
            },
            "type": "scatter"
           }
          ],
          "scatter3d": [
           {
            "line": {
             "colorbar": {
              "outlinewidth": 0,
              "ticks": ""
             }
            },
            "marker": {
             "colorbar": {
              "outlinewidth": 0,
              "ticks": ""
             }
            },
            "type": "scatter3d"
           }
          ],
          "scattercarpet": [
           {
            "marker": {
             "colorbar": {
              "outlinewidth": 0,
              "ticks": ""
             }
            },
            "type": "scattercarpet"
           }
          ],
          "scattergeo": [
           {
            "marker": {
             "colorbar": {
              "outlinewidth": 0,
              "ticks": ""
             }
            },
            "type": "scattergeo"
           }
          ],
          "scattergl": [
           {
            "marker": {
             "colorbar": {
              "outlinewidth": 0,
              "ticks": ""
             }
            },
            "type": "scattergl"
           }
          ],
          "scattermap": [
           {
            "marker": {
             "colorbar": {
              "outlinewidth": 0,
              "ticks": ""
             }
            },
            "type": "scattermap"
           }
          ],
          "scattermapbox": [
           {
            "marker": {
             "colorbar": {
              "outlinewidth": 0,
              "ticks": ""
             }
            },
            "type": "scattermapbox"
           }
          ],
          "scatterpolar": [
           {
            "marker": {
             "colorbar": {
              "outlinewidth": 0,
              "ticks": ""
             }
            },
            "type": "scatterpolar"
           }
          ],
          "scatterpolargl": [
           {
            "marker": {
             "colorbar": {
              "outlinewidth": 0,
              "ticks": ""
             }
            },
            "type": "scatterpolargl"
           }
          ],
          "scatterternary": [
           {
            "marker": {
             "colorbar": {
              "outlinewidth": 0,
              "ticks": ""
             }
            },
            "type": "scatterternary"
           }
          ],
          "surface": [
           {
            "colorbar": {
             "outlinewidth": 0,
             "ticks": ""
            },
            "colorscale": [
             [
              0,
              "#0d0887"
             ],
             [
              0.1111111111111111,
              "#46039f"
             ],
             [
              0.2222222222222222,
              "#7201a8"
             ],
             [
              0.3333333333333333,
              "#9c179e"
             ],
             [
              0.4444444444444444,
              "#bd3786"
             ],
             [
              0.5555555555555556,
              "#d8576b"
             ],
             [
              0.6666666666666666,
              "#ed7953"
             ],
             [
              0.7777777777777778,
              "#fb9f3a"
             ],
             [
              0.8888888888888888,
              "#fdca26"
             ],
             [
              1,
              "#f0f921"
             ]
            ],
            "type": "surface"
           }
          ],
          "table": [
           {
            "cells": {
             "fill": {
              "color": "#EBF0F8"
             },
             "line": {
              "color": "white"
             }
            },
            "header": {
             "fill": {
              "color": "#C8D4E3"
             },
             "line": {
              "color": "white"
             }
            },
            "type": "table"
           }
          ]
         },
         "layout": {
          "annotationdefaults": {
           "arrowcolor": "#2a3f5f",
           "arrowhead": 0,
           "arrowwidth": 1
          },
          "autotypenumbers": "strict",
          "coloraxis": {
           "colorbar": {
            "outlinewidth": 0,
            "ticks": ""
           }
          },
          "colorscale": {
           "diverging": [
            [
             0,
             "#8e0152"
            ],
            [
             0.1,
             "#c51b7d"
            ],
            [
             0.2,
             "#de77ae"
            ],
            [
             0.3,
             "#f1b6da"
            ],
            [
             0.4,
             "#fde0ef"
            ],
            [
             0.5,
             "#f7f7f7"
            ],
            [
             0.6,
             "#e6f5d0"
            ],
            [
             0.7,
             "#b8e186"
            ],
            [
             0.8,
             "#7fbc41"
            ],
            [
             0.9,
             "#4d9221"
            ],
            [
             1,
             "#276419"
            ]
           ],
           "sequential": [
            [
             0,
             "#0d0887"
            ],
            [
             0.1111111111111111,
             "#46039f"
            ],
            [
             0.2222222222222222,
             "#7201a8"
            ],
            [
             0.3333333333333333,
             "#9c179e"
            ],
            [
             0.4444444444444444,
             "#bd3786"
            ],
            [
             0.5555555555555556,
             "#d8576b"
            ],
            [
             0.6666666666666666,
             "#ed7953"
            ],
            [
             0.7777777777777778,
             "#fb9f3a"
            ],
            [
             0.8888888888888888,
             "#fdca26"
            ],
            [
             1,
             "#f0f921"
            ]
           ],
           "sequentialminus": [
            [
             0,
             "#0d0887"
            ],
            [
             0.1111111111111111,
             "#46039f"
            ],
            [
             0.2222222222222222,
             "#7201a8"
            ],
            [
             0.3333333333333333,
             "#9c179e"
            ],
            [
             0.4444444444444444,
             "#bd3786"
            ],
            [
             0.5555555555555556,
             "#d8576b"
            ],
            [
             0.6666666666666666,
             "#ed7953"
            ],
            [
             0.7777777777777778,
             "#fb9f3a"
            ],
            [
             0.8888888888888888,
             "#fdca26"
            ],
            [
             1,
             "#f0f921"
            ]
           ]
          },
          "colorway": [
           "#636efa",
           "#EF553B",
           "#00cc96",
           "#ab63fa",
           "#FFA15A",
           "#19d3f3",
           "#FF6692",
           "#B6E880",
           "#FF97FF",
           "#FECB52"
          ],
          "font": {
           "color": "#2a3f5f"
          },
          "geo": {
           "bgcolor": "white",
           "lakecolor": "white",
           "landcolor": "white",
           "showlakes": true,
           "showland": true,
           "subunitcolor": "#C8D4E3"
          },
          "hoverlabel": {
           "align": "left"
          },
          "hovermode": "closest",
          "mapbox": {
           "style": "light"
          },
          "paper_bgcolor": "white",
          "plot_bgcolor": "white",
          "polar": {
           "angularaxis": {
            "gridcolor": "#EBF0F8",
            "linecolor": "#EBF0F8",
            "ticks": ""
           },
           "bgcolor": "white",
           "radialaxis": {
            "gridcolor": "#EBF0F8",
            "linecolor": "#EBF0F8",
            "ticks": ""
           }
          },
          "scene": {
           "xaxis": {
            "backgroundcolor": "white",
            "gridcolor": "#DFE8F3",
            "gridwidth": 2,
            "linecolor": "#EBF0F8",
            "showbackground": true,
            "ticks": "",
            "zerolinecolor": "#EBF0F8"
           },
           "yaxis": {
            "backgroundcolor": "white",
            "gridcolor": "#DFE8F3",
            "gridwidth": 2,
            "linecolor": "#EBF0F8",
            "showbackground": true,
            "ticks": "",
            "zerolinecolor": "#EBF0F8"
           },
           "zaxis": {
            "backgroundcolor": "white",
            "gridcolor": "#DFE8F3",
            "gridwidth": 2,
            "linecolor": "#EBF0F8",
            "showbackground": true,
            "ticks": "",
            "zerolinecolor": "#EBF0F8"
           }
          },
          "shapedefaults": {
           "line": {
            "color": "#2a3f5f"
           }
          },
          "ternary": {
           "aaxis": {
            "gridcolor": "#DFE8F3",
            "linecolor": "#A2B1C6",
            "ticks": ""
           },
           "baxis": {
            "gridcolor": "#DFE8F3",
            "linecolor": "#A2B1C6",
            "ticks": ""
           },
           "bgcolor": "white",
           "caxis": {
            "gridcolor": "#DFE8F3",
            "linecolor": "#A2B1C6",
            "ticks": ""
           }
          },
          "title": {
           "x": 0.05
          },
          "xaxis": {
           "automargin": true,
           "gridcolor": "#EBF0F8",
           "linecolor": "#EBF0F8",
           "ticks": "",
           "title": {
            "standoff": 15
           },
           "zerolinecolor": "#EBF0F8",
           "zerolinewidth": 2
          },
          "yaxis": {
           "automargin": true,
           "gridcolor": "#EBF0F8",
           "linecolor": "#EBF0F8",
           "ticks": "",
           "title": {
            "standoff": 15
           },
           "zerolinecolor": "#EBF0F8",
           "zerolinewidth": 2
          }
         }
        },
        "title": {
         "text": "Transit % Pre-COVID Recovery Trends (Weekday vs Weekend)",
         "x": 0.5
        },
        "width": 1200,
        "xaxis": {
         "anchor": "y",
         "domain": [
          0,
          0.2888888888888889
         ],
         "title": {
          "text": "Month-Year"
         }
        },
        "xaxis2": {
         "anchor": "y2",
         "domain": [
          0.35555555555555557,
          0.6444444444444445
         ],
         "title": {
          "text": "Month-Year"
         }
        },
        "xaxis3": {
         "anchor": "y3",
         "domain": [
          0.7111111111111111,
          1
         ],
         "title": {
          "text": "Month-Year"
         }
        },
        "xaxis4": {
         "anchor": "y4",
         "domain": [
          0,
          0.2888888888888889
         ],
         "title": {
          "text": "Month-Year"
         }
        },
        "xaxis5": {
         "anchor": "y5",
         "domain": [
          0.35555555555555557,
          0.6444444444444445
         ],
         "title": {
          "text": "Month-Year"
         }
        },
        "xaxis6": {
         "anchor": "y6",
         "domain": [
          0.7111111111111111,
          1
         ],
         "title": {
          "text": "Month-Year"
         }
        },
        "yaxis": {
         "anchor": "x",
         "domain": [
          0.625,
          1
         ],
         "title": {
          "text": "% of Pre-COVID"
         }
        },
        "yaxis2": {
         "anchor": "x2",
         "domain": [
          0.625,
          1
         ]
        },
        "yaxis3": {
         "anchor": "x3",
         "domain": [
          0.625,
          1
         ]
        },
        "yaxis4": {
         "anchor": "x4",
         "domain": [
          0,
          0.375
         ]
        },
        "yaxis5": {
         "anchor": "x5",
         "domain": [
          0,
          0.375
         ]
        },
        "yaxis6": {
         "anchor": "x6",
         "domain": [
          0,
          0.375
         ]
        }
       }
      }
     },
     "metadata": {},
     "output_type": "display_data"
    }
   ],
   "source": [
    "import plotly.graph_objs as go\n",
    "from plotly.subplots import make_subplots\n",
    "\n",
    "# Step 1: Map day_type to Weekday/Weekend\n",
    "df['day_type_simple'] = df['weekday'].map(\n",
    "    lambda x: 'Weekend' if x in ['Saturday', 'Sunday'] else 'Weekday'\n",
    ")\n",
    "\n",
    "# Step 2: Convert month names to numerical values\n",
    "month_mapping = {\n",
    "    'January': 1, 'February': 2, 'March': 3, 'April': 4,\n",
    "    'May': 5, 'June': 6, 'July': 7, 'August': 8,\n",
    "    'September': 9, 'October': 10, 'November': 11, 'December': 12\n",
    "}\n",
    "df['month'] = df['month'].map(month_mapping)\n",
    "\n",
    "# Step 3: Transit modes to plot\n",
    "modes = [\n",
    "    'subway_%_pre_covid', 'bus_%_pre_covid', 'lirr_%_pre_covid',\n",
    "    'metro_%_pre_covid', 'sir_%_pre_covid', 'access_%_pre_covid'\n",
    "]\n",
    "\n",
    "# Step 4: Create subplots\n",
    "fig = make_subplots(rows=2, cols=3, subplot_titles=[\n",
    "    mode.replace('_', ' ').title() + ' Recovery Trend' for mode in modes\n",
    "])\n",
    "\n",
    "# Step 5: Plot each mode in subplot\n",
    "for i, mode in enumerate(modes):\n",
    "    row = i // 3 + 1\n",
    "    col = i % 3 + 1\n",
    "\n",
    "    # Grouping\n",
    "    temp = df.groupby(['year', 'month', 'day_type_simple'])[mode].mean().reset_index()\n",
    "    temp['Period'] = pd.to_datetime(temp[['year', 'month']].assign(day=1))\n",
    "\n",
    "    # Weekday Line\n",
    "    weekday_data = temp[temp['day_type_simple'] == 'Weekday']\n",
    "    fig.add_trace(\n",
    "        go.Scatter(\n",
    "            x=weekday_data['Period'],\n",
    "            y=weekday_data[mode],\n",
    "            mode='lines+markers',\n",
    "            name='Weekday',\n",
    "            line=dict(color='steelblue'),\n",
    "            showlegend=(i == 0)\n",
    "        ),\n",
    "        row=row, col=col\n",
    "    )\n",
    "\n",
    "    # Weekend Line\n",
    "    weekend_data = temp[temp['day_type_simple'] == 'Weekend']\n",
    "    fig.add_trace(\n",
    "        go.Scatter(\n",
    "            x=weekend_data['Period'],\n",
    "            y=weekend_data[mode],\n",
    "            mode='lines+markers',\n",
    "            name='Weekend',\n",
    "            line=dict(color='darkorange'),\n",
    "            showlegend=(i == 0)\n",
    "        ),\n",
    "        row=row, col=col\n",
    "    )\n",
    "\n",
    "# Step 6: Update layout\n",
    "fig.update_layout(\n",
    "    height=800,\n",
    "    width=1200,\n",
    "    title_text=\"Transit % Pre-COVID Recovery Trends (Weekday vs Weekend)\",\n",
    "    title_x=0.5,\n",
    "    legend=dict(x=1, y=1),\n",
    "    template='plotly_white'\n",
    ")\n",
    "\n",
    "# Y-axis label\n",
    "fig.update_yaxes(title_text='% of Pre-COVID', row=1, col=1)\n",
    "fig.update_xaxes(title_text='Month-Year')\n",
    "\n",
    "fig.show()\n",
    "\n"
   ]
  },
  {
   "cell_type": "markdown",
   "id": "0263eb9a",
   "metadata": {},
   "source": [
    "### Phase 2: Stacked Area Chart – % Recovery Across All Modes"
   ]
  },
  {
   "cell_type": "code",
   "execution_count": 235,
   "id": "8e1bd361",
   "metadata": {},
   "outputs": [
    {
     "data": {
      "text/plain": [
       "<Figure size 1400x600 with 0 Axes>"
      ]
     },
     "metadata": {},
     "output_type": "display_data"
    },
    {
     "data": {
      "image/png": "[encoded data removed]",
      "text/plain": [
       "<Figure size 640x480 with 1 Axes>"
      ]
     },
     "metadata": {},
     "output_type": "display_data"
    }
   ],
   "source": [
    "import pandas as pd\n",
    "import matplotlib.pyplot as plt\n",
    "\n",
    "# Extract year and month from the existing 'date' column\n",
    "df['date'] = pd.to_datetime(df['date'])  # Make sure it's datetime\n",
    "df['year'] = df['date'].dt.year\n",
    "df['month'] = df['date'].dt.month\n",
    "\n",
    "# Create a new 'month_start' column to group by month\n",
    "df['month_start'] = df['date'].dt.to_period('M').dt.to_timestamp()\n",
    "\n",
    "# List of mode columns\n",
    "mode_columns = [\n",
    "    'subway_%_pre_covid', 'bus_%_pre_covid', 'lirr_%_pre_covid',\n",
    "    'metro_%_pre_covid', 'sir_%_pre_covid', 'access_%_pre_covid'\n",
    "]\n",
    "\n",
    "# Group by month_start and average\n",
    "df_grouped = df.groupby('month_start')[mode_columns].mean()\n",
    "\n",
    "# Plot\n",
    "plt.figure(figsize=(14, 6))\n",
    "ax = df_grouped.plot.area(stacked=True, alpha=0.7)\n",
    "\n",
    "plt.title(\"Stacked Area Chart of % Recovery Across All Transit Modes\")\n",
    "plt.ylabel(\"% Recovery (vs. Pre-COVID)\")\n",
    "plt.xlabel(\"Date (Monthly)\")\n",
    "plt.legend([col.replace('_%_pre_covid', '').upper() for col in mode_columns], title=\"Mode\")\n",
    "plt.grid(True, linestyle='--', alpha=0.4)\n",
    "plt.tight_layout()\n",
    "plt.show()\n",
    "\n"
   ]
  },
  {
   "cell_type": "markdown",
   "id": "b431845a",
   "metadata": {},
   "source": [
    "## Exploring Mode Relationships & Unusual Patterns"
   ]
  },
  {
   "cell_type": "markdown",
   "id": "f49768ad",
   "metadata": {},
   "source": [
    "### Phase 3: Correlation Between Modes"
   ]
  },
  {
   "cell_type": "code",
   "execution_count": 236,
   "id": "f27196d6",
   "metadata": {},
   "outputs": [
    {
     "data": {
      "image/png": "[encoded data removed]",
      "text/plain": [
       "<Figure size 1000x600 with 2 Axes>"
      ]
     },
     "metadata": {},
     "output_type": "display_data"
    }
   ],
   "source": [
    "# Select only % recovery columns\n",
    "mode_columns = [\n",
    "    'subway_%_pre_covid', 'bus_%_pre_covid', 'lirr_%_pre_covid',\n",
    "    'metro_%_pre_covid', 'sir_%_pre_covid', 'access_%_pre_covid'\n",
    "]\n",
    "\n",
    "# Compute correlation matrix\n",
    "correlation_matrix = df[mode_columns].corr()\n",
    "\n",
    "# Plot heatmap\n",
    "plt.figure(figsize=(10, 6))\n",
    "sns.heatmap(correlation_matrix, annot=True, cmap='coolwarm', linewidths=0.5)\n",
    "plt.title(\"Correlation Between Transit Modes' % Recovery\")\n",
    "plt.tight_layout()\n",
    "plt.show()"
   ]
  },
  {
   "cell_type": "markdown",
   "id": "47f16aa6",
   "metadata": {},
   "source": [
    "### Phase 2: Outlier Detection Using IQR "
   ]
  },
  {
   "cell_type": "code",
   "execution_count": 237,
   "id": "a1de2bd5",
   "metadata": {},
   "outputs": [
    {
     "data": {
      "image/png": "[encoded data removed]",
      "text/plain": [
       "<Figure size 1200x600 with 1 Axes>"
      ]
     },
     "metadata": {},
     "output_type": "display_data"
    }
   ],
   "source": [
    "import seaborn as sns\n",
    "import matplotlib.pyplot as plt\n",
    "\n",
    "plt.figure(figsize=(12, 6))\n",
    "sns.boxplot(data=df[[\n",
    "    'subway_%_pre_covid',\n",
    "    'bus_%_pre_covid',\n",
    "    'lirr_%_pre_covid',\n",
    "    'metro_%_pre_covid',\n",
    "    'sir_%_pre_covid',\n",
    "    'access_%_pre_covid'\n",
    "]])\n",
    "plt.title(\"Boxplot of % Recovery by Transit Mode\")\n",
    "plt.ylabel(\"% of Pre-COVID Ridership\")\n",
    "plt.xticks(rotation=45)\n",
    "plt.grid(True)\n",
    "plt.tight_layout()\n",
    "plt.show()\n",
    "\n"
   ]
  },
  {
   "cell_type": "markdown",
   "id": "e7f88f9c",
   "metadata": {},
   "source": [
    "## Statistical Analysis on Ridership Percentages"
   ]
  },
  {
   "cell_type": "markdown",
   "id": "5726f99d",
   "metadata": {},
   "source": [
    "### Phase 1: Descriptive Statistics on % Recovery"
   ]
  },
  {
   "cell_type": "code",
   "execution_count": 238,
   "id": "2e04ec0c",
   "metadata": {},
   "outputs": [
    {
     "name": "stdout",
     "output_type": "stream",
     "text": [
      "Descriptive Statistics of Ridership Recovery Percentages:\n"
     ]
    },
    {
     "data": {
      "text/html": [
       "<style type=\"text/css\">\n",
       "#T_c526b_row0_col0, #T_c526b_row1_col2 {\n",
       "  background-color: #b0d2e7;\n",
       "  color: #000000;\n",
       "}\n",
       "#T_c526b_row0_col1 {\n",
       "  background-color: #a0cbe2;\n",
       "  color: #000000;\n",
       "}\n",
       "#T_c526b_row0_col2 {\n",
       "  background-color: #a5cde3;\n",
       "  color: #000000;\n",
       "}\n",
       "#T_c526b_row0_col3 {\n",
       "  background-color: #99c7e0;\n",
       "  color: #000000;\n",
       "}\n",
       "#T_c526b_row0_col4 {\n",
       "  background-color: #d0e2f2;\n",
       "  color: #000000;\n",
       "}\n",
       "#T_c526b_row1_col0 {\n",
       "  background-color: #b5d4e9;\n",
       "  color: #000000;\n",
       "}\n",
       "#T_c526b_row1_col1, #T_c526b_row2_col1 {\n",
       "  background-color: #a6cee4;\n",
       "  color: #000000;\n",
       "}\n",
       "#T_c526b_row1_col3 {\n",
       "  background-color: #ecf4fb;\n",
       "  color: #000000;\n",
       "}\n",
       "#T_c526b_row1_col4 {\n",
       "  background-color: #edf4fc;\n",
       "  color: #000000;\n",
       "}\n",
       "#T_c526b_row2_col0 {\n",
       "  background-color: #9ac8e0;\n",
       "  color: #000000;\n",
       "}\n",
       "#T_c526b_row2_col2, #T_c526b_row2_col4, #T_c526b_row5_col0, #T_c526b_row5_col1, #T_c526b_row5_col3 {\n",
       "  background-color: #08306b;\n",
       "  color: #f1f1f1;\n",
       "}\n",
       "#T_c526b_row2_col3 {\n",
       "  background-color: #e1edf8;\n",
       "  color: #000000;\n",
       "}\n",
       "#T_c526b_row3_col0 {\n",
       "  background-color: #c8dcf0;\n",
       "  color: #000000;\n",
       "}\n",
       "#T_c526b_row3_col1 {\n",
       "  background-color: #bdd7ec;\n",
       "  color: #000000;\n",
       "}\n",
       "#T_c526b_row3_col2 {\n",
       "  background-color: #1a68ae;\n",
       "  color: #f1f1f1;\n",
       "}\n",
       "#T_c526b_row3_col3 {\n",
       "  background-color: #d6e6f4;\n",
       "  color: #000000;\n",
       "}\n",
       "#T_c526b_row3_col4 {\n",
       "  background-color: #4292c6;\n",
       "  color: #f1f1f1;\n",
       "}\n",
       "#T_c526b_row4_col0 {\n",
       "  background-color: #09529d;\n",
       "  color: #f1f1f1;\n",
       "}\n",
       "#T_c526b_row4_col1 {\n",
       "  background-color: #1c6bb0;\n",
       "  color: #f1f1f1;\n",
       "}\n",
       "#T_c526b_row4_col2 {\n",
       "  background-color: #3383be;\n",
       "  color: #f1f1f1;\n",
       "}\n",
       "#T_c526b_row4_col3 {\n",
       "  background-color: #2979b9;\n",
       "  color: #f1f1f1;\n",
       "}\n",
       "#T_c526b_row4_col4 {\n",
       "  background-color: #cfe1f2;\n",
       "  color: #000000;\n",
       "}\n",
       "#T_c526b_row5_col2, #T_c526b_row5_col4, #T_c526b_row6_col0, #T_c526b_row6_col1, #T_c526b_row6_col3 {\n",
       "  background-color: #f7fbff;\n",
       "  color: #000000;\n",
       "}\n",
       "#T_c526b_row6_col2 {\n",
       "  background-color: #b2d2e8;\n",
       "  color: #000000;\n",
       "}\n",
       "#T_c526b_row6_col4 {\n",
       "  background-color: #61a7d2;\n",
       "  color: #f1f1f1;\n",
       "}\n",
       "</style>\n",
       "<table id=\"T_c526b\">\n",
       "  <thead>\n",
       "    <tr>\n",
       "      <th class=\"blank level0\" >&nbsp;</th>\n",
       "      <th id=\"T_c526b_level0_col0\" class=\"col_heading level0 col0\" >mean</th>\n",
       "      <th id=\"T_c526b_level0_col1\" class=\"col_heading level0 col1\" >median</th>\n",
       "      <th id=\"T_c526b_level0_col2\" class=\"col_heading level0 col2\" >std</th>\n",
       "      <th id=\"T_c526b_level0_col3\" class=\"col_heading level0 col3\" >min</th>\n",
       "      <th id=\"T_c526b_level0_col4\" class=\"col_heading level0 col4\" >max</th>\n",
       "    </tr>\n",
       "  </thead>\n",
       "  <tbody>\n",
       "    <tr>\n",
       "      <th id=\"T_c526b_level0_row0\" class=\"row_heading level0 row0\" >subway_%_pre_covid</th>\n",
       "      <td id=\"T_c526b_row0_col0\" class=\"data row0 col0\" >55.461313</td>\n",
       "      <td id=\"T_c526b_row0_col1\" class=\"data row0 col1\" >61.000000</td>\n",
       "      <td id=\"T_c526b_row0_col2\" class=\"data row0 col2\" >19.819596</td>\n",
       "      <td id=\"T_c526b_row0_col3\" class=\"data row0 col3\" >7.000000</td>\n",
       "      <td id=\"T_c526b_row0_col4\" class=\"data row0 col4\" >143.000000</td>\n",
       "    </tr>\n",
       "    <tr>\n",
       "      <th id=\"T_c526b_level0_row1\" class=\"row_heading level0 row1\" >bus_%_pre_covid</th>\n",
       "      <td id=\"T_c526b_row1_col0\" class=\"data row1 col0\" >54.692849</td>\n",
       "      <td id=\"T_c526b_row1_col1\" class=\"data row1 col1\" >60.000000</td>\n",
       "      <td id=\"T_c526b_row1_col2\" class=\"data row1 col2\" >19.293307</td>\n",
       "      <td id=\"T_c526b_row1_col3\" class=\"data row1 col3\" >1.000000</td>\n",
       "      <td id=\"T_c526b_row1_col4\" class=\"data row1 col4\" >126.000000</td>\n",
       "    </tr>\n",
       "    <tr>\n",
       "      <th id=\"T_c526b_level0_row2\" class=\"row_heading level0 row2\" >lirr_%_pre_covid</th>\n",
       "      <td id=\"T_c526b_row2_col0\" class=\"data row2 col0\" >59.128370</td>\n",
       "      <td id=\"T_c526b_row2_col1\" class=\"data row2 col1\" >60.000000</td>\n",
       "      <td id=\"T_c526b_row2_col2\" class=\"data row2 col2\" >29.297993</td>\n",
       "      <td id=\"T_c526b_row2_col3\" class=\"data row2 col3\" >2.000000</td>\n",
       "      <td id=\"T_c526b_row2_col4\" class=\"data row2 col4\" >237.000000</td>\n",
       "    </tr>\n",
       "    <tr>\n",
       "      <th id=\"T_c526b_level0_row3\" class=\"row_heading level0 row3\" >metro_%_pre_covid</th>\n",
       "      <td id=\"T_c526b_row3_col0\" class=\"data row3 col0\" >51.083236</td>\n",
       "      <td id=\"T_c526b_row3_col1\" class=\"data row3 col1\" >56.000000</td>\n",
       "      <td id=\"T_c526b_row3_col2\" class=\"data row3 col2\" >26.137311</td>\n",
       "      <td id=\"T_c526b_row3_col3\" class=\"data row3 col3\" >3.000000</td>\n",
       "      <td id=\"T_c526b_row3_col4\" class=\"data row3 col4\" >193.000000</td>\n",
       "    </tr>\n",
       "    <tr>\n",
       "      <th id=\"T_c526b_level0_row4\" class=\"row_heading level0 row4\" >access_%_pre_covid</th>\n",
       "      <td id=\"T_c526b_row4_col0\" class=\"data row4 col0\" >86.165299</td>\n",
       "      <td id=\"T_c526b_row4_col1\" class=\"data row4 col1\" >84.000000</td>\n",
       "      <td id=\"T_c526b_row4_col2\" class=\"data row4 col2\" >24.645063</td>\n",
       "      <td id=\"T_c526b_row4_col3\" class=\"data row4 col3\" >13.000000</td>\n",
       "      <td id=\"T_c526b_row4_col4\" class=\"data row4 col4\" >144.000000</td>\n",
       "    </tr>\n",
       "    <tr>\n",
       "      <th id=\"T_c526b_level0_row5\" class=\"row_heading level0 row5\" >bridge_tunnel_%_pre_covid</th>\n",
       "      <td id=\"T_c526b_row5_col0\" class=\"data row5 col0\" >93.375147</td>\n",
       "      <td id=\"T_c526b_row5_col1\" class=\"data row5 col1\" >97.000000</td>\n",
       "      <td id=\"T_c526b_row5_col2\" class=\"data row5 col2\" >14.641962</td>\n",
       "      <td id=\"T_c526b_row5_col3\" class=\"data row5 col3\" >18.000000</td>\n",
       "      <td id=\"T_c526b_row5_col4\" class=\"data row5 col4\" >120.000000</td>\n",
       "    </tr>\n",
       "    <tr>\n",
       "      <th id=\"T_c526b_level0_row6\" class=\"row_heading level0 row6\" >sir_%_pre_covid</th>\n",
       "      <td id=\"T_c526b_row6_col0\" class=\"data row6 col0\" >37.811254</td>\n",
       "      <td id=\"T_c526b_row6_col1\" class=\"data row6 col1\" >40.000000</td>\n",
       "      <td id=\"T_c526b_row6_col2\" class=\"data row6 col2\" >19.273205</td>\n",
       "      <td id=\"T_c526b_row6_col3\" class=\"data row6 col3\" >0.000000</td>\n",
       "      <td id=\"T_c526b_row6_col4\" class=\"data row6 col4\" >182.000000</td>\n",
       "    </tr>\n",
       "  </tbody>\n",
       "</table>\n"
      ],
      "text/plain": [
       "<pandas.io.formats.style.Styler at 0x2be461ff750>"
      ]
     },
     "metadata": {},
     "output_type": "display_data"
    }
   ],
   "source": [
    "# Corrected list of % columns\n",
    "percentage_cols = [\n",
    "    'subway_%_pre_covid',\n",
    "    'bus_%_pre_covid',\n",
    "    'lirr_%_pre_covid',\n",
    "    'metro_%_pre_covid',\n",
    "    'access_%_pre_covid',\n",
    "    'bridge_tunnel_%_pre_covid',\n",
    "    'sir_%_pre_covid'\n",
    "]\n",
    "\n",
    "# Descriptive statistics\n",
    "stats_df = df[percentage_cols].describe().T[['mean', '50%', 'std', 'min', 'max']]\n",
    "stats_df.rename(columns={'50%': 'median'}, inplace=True)\n",
    "\n",
    "# Displaying results nicely\n",
    "print(\"Descriptive Statistics of Ridership Recovery Percentages:\")\n",
    "display(stats_df.style.background_gradient(cmap='Blues'))\n",
    "\n"
   ]
  },
  {
   "cell_type": "markdown",
   "id": "3223ba58",
   "metadata": {},
   "source": [
    "### Phase 2: Hypothesis Testing"
   ]
  },
  {
   "cell_type": "code",
   "execution_count": 242,
   "id": "5bafa42c",
   "metadata": {},
   "outputs": [
    {
     "name": "stdout",
     "output_type": "stream",
     "text": [
      "=== Subway ===\n",
      "Mean % Recovery: 55.46\n",
      "T-statistic: -40.7183\n",
      "P-value: 1.0000\n",
      "Fail to Reject H₀ → Recovery is not significantly above 75%\n",
      "\n",
      "=== Bus ===\n",
      "Mean % Recovery: 54.69\n",
      "T-statistic: -43.4742\n",
      "P-value: 1.0000\n",
      "Fail to Reject H₀ → Recovery is not significantly above 75%\n",
      "\n",
      "=== Lirr ===\n",
      "Mean % Recovery: 59.13\n",
      "T-statistic: -22.3755\n",
      "P-value: 1.0000\n",
      "Fail to Reject H₀ → Recovery is not significantly above 75%\n",
      "\n",
      "=== Metro ===\n",
      "Mean % Recovery: 51.08\n",
      "T-statistic: -37.7947\n",
      "P-value: 1.0000\n",
      "Fail to Reject H₀ → Recovery is not significantly above 75%\n",
      "\n",
      "=== Access ===\n",
      "Mean % Recovery: 86.17\n",
      "T-statistic: 18.7124\n",
      "P-value: 0.0000\n",
      "Reject H₀ → Recovery is significantly above 75%\n",
      "\n",
      "=== Bridge_Tunnel ===\n",
      "Mean % Recovery: 93.38\n",
      "T-statistic: 51.8348\n",
      "P-value: 0.0000\n",
      "Reject H₀ → Recovery is significantly above 75%\n",
      "\n",
      "=== Sir ===\n",
      "Mean % Recovery: 37.81\n",
      "T-statistic: -79.6979\n",
      "P-value: 1.0000\n",
      "Fail to Reject H₀ → Recovery is not significantly above 75%\n",
      "\n"
     ]
    }
   ],
   "source": [
    "import pandas as pd\n",
    "from scipy import stats\n",
    "\n",
    "# List of all modes\n",
    "modes = [\n",
    "    'subway_%_pre_covid',\n",
    "    'bus_%_pre_covid',\n",
    "    'lirr_%_pre_covid',\n",
    "    'metro_%_pre_covid',\n",
    "    'access_%_pre_covid',\n",
    "    'bridge_tunnel_%_pre_covid',\n",
    "    'sir_%_pre_covid'\n",
    "]\n",
    "\n",
    "# Loop through each mode independently\n",
    "for mode in modes:\n",
    "    data = df[mode].dropna()  # Drop NaNs for this specific mode\n",
    "    print(f\"=== {mode.replace('_%_pre_covid', '').title()} ===\")\n",
    "    \n",
    "    if len(data) == 0:\n",
    "        print(\"No data available.\\n\")\n",
    "        continue  # Skip this mode if no data is available\n",
    "\n",
    "    t_stat, p_val = stats.ttest_1samp(data, popmean=75, alternative='greater')\n",
    "    print(f\"Mean % Recovery: {data.mean():.2f}\")\n",
    "    print(f\"T-statistic: {t_stat:.4f}\")\n",
    "    print(f\"P-value: {p_val:.4f}\")\n",
    "    if p_val < 0.05:\n",
    "        print(\"Reject H₀ → Recovery is significantly above 75%\\n\")\n",
    "    else:\n",
    "        print(\"Fail to Reject H₀ → Recovery is not significantly above 75%\\n\")\n",
    "\n"
   ]
  }
 ],
 "metadata": {
  "kernelspec": {
   "display_name": "Python 3",
   "language": "python",
   "name": "python3"
  },
  "language_info": {
   "codemirror_mode": {
    "name": "ipython",
    "version": 3
   },
   "file_extension": ".py",
   "mimetype": "text/x-python",
   "name": "python",
   "nbconvert_exporter": "python",
   "pygments_lexer": "ipython3",
   "version": "3.13.2"
  }
 },
 "nbformat": 4,
 "nbformat_minor": 5
}
